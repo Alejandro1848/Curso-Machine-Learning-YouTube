{
 "cells": [
  {
   "cell_type": "code",
   "execution_count": 1,
   "id": "620d0234",
   "metadata": {},
   "outputs": [],
   "source": [
    "import math\n",
    "import matplotlib.pyplot as plt\n",
    "import numpy as np\n",
    "import pandas as pd\n",
    "import seaborn as sns\n",
    "import sklearn\n",
    "\n",
    "from sklearn.preprocessing import scale\n",
    "from sklearn.model_selection import train_test_split \n",
    "from sklearn.metrics import mean_squared_error\n",
    "from sklearn.metrics import r2_score"
   ]
  },
  {
   "cell_type": "code",
   "execution_count": 2,
   "id": "def38a37",
   "metadata": {},
   "outputs": [
    {
     "data": {
      "text/plain": [
       "(17562, 35)"
      ]
     },
     "execution_count": 2,
     "metadata": {},
     "output_type": "execute_result"
    }
   ],
   "source": [
    "df=pd.read_csv('C:/Users/I_am_AlexX/Downloads/Data_set_LOL/anime.csv')\n",
    "df.shape"
   ]
  },
  {
   "cell_type": "code",
   "execution_count": 3,
   "id": "8caf8fad",
   "metadata": {},
   "outputs": [],
   "source": [
    "pd.set_option('display.max_columns',35)"
   ]
  },
  {
   "cell_type": "code",
   "execution_count": 4,
   "id": "db39eda1",
   "metadata": {},
   "outputs": [
    {
     "data": {
      "text/html": [
       "<div>\n",
       "<style scoped>\n",
       "    .dataframe tbody tr th:only-of-type {\n",
       "        vertical-align: middle;\n",
       "    }\n",
       "\n",
       "    .dataframe tbody tr th {\n",
       "        vertical-align: top;\n",
       "    }\n",
       "\n",
       "    .dataframe thead th {\n",
       "        text-align: right;\n",
       "    }\n",
       "</style>\n",
       "<table border=\"1\" class=\"dataframe\">\n",
       "  <thead>\n",
       "    <tr style=\"text-align: right;\">\n",
       "      <th></th>\n",
       "      <th>MAL_ID</th>\n",
       "      <th>Name</th>\n",
       "      <th>Score</th>\n",
       "      <th>Genres</th>\n",
       "      <th>English name</th>\n",
       "      <th>Japanese name</th>\n",
       "      <th>Type</th>\n",
       "      <th>Episodes</th>\n",
       "      <th>Aired</th>\n",
       "      <th>Premiered</th>\n",
       "      <th>Producers</th>\n",
       "      <th>Licensors</th>\n",
       "      <th>Studios</th>\n",
       "      <th>Source</th>\n",
       "      <th>Duration</th>\n",
       "      <th>Rating</th>\n",
       "      <th>Ranked</th>\n",
       "      <th>Popularity</th>\n",
       "      <th>Members</th>\n",
       "      <th>Favorites</th>\n",
       "      <th>Watching</th>\n",
       "      <th>Completed</th>\n",
       "      <th>On-Hold</th>\n",
       "      <th>Dropped</th>\n",
       "      <th>Plan to Watch</th>\n",
       "      <th>Score-10</th>\n",
       "      <th>Score-9</th>\n",
       "      <th>Score-8</th>\n",
       "      <th>Score-7</th>\n",
       "      <th>Score-6</th>\n",
       "      <th>Score-5</th>\n",
       "      <th>Score-4</th>\n",
       "      <th>Score-3</th>\n",
       "      <th>Score-2</th>\n",
       "      <th>Score-1</th>\n",
       "    </tr>\n",
       "  </thead>\n",
       "  <tbody>\n",
       "    <tr>\n",
       "      <th>0</th>\n",
       "      <td>1</td>\n",
       "      <td>Cowboy Bebop</td>\n",
       "      <td>8.78</td>\n",
       "      <td>Action, Adventure, Comedy, Drama, Sci-Fi, Space</td>\n",
       "      <td>Cowboy Bebop</td>\n",
       "      <td>カウボーイビバップ</td>\n",
       "      <td>TV</td>\n",
       "      <td>26</td>\n",
       "      <td>Apr 3, 1998 to Apr 24, 1999</td>\n",
       "      <td>Spring 1998</td>\n",
       "      <td>Bandai Visual</td>\n",
       "      <td>Funimation, Bandai Entertainment</td>\n",
       "      <td>Sunrise</td>\n",
       "      <td>Original</td>\n",
       "      <td>24 min. per ep.</td>\n",
       "      <td>R - 17+ (violence &amp; profanity)</td>\n",
       "      <td>28.0</td>\n",
       "      <td>39</td>\n",
       "      <td>1251960</td>\n",
       "      <td>61971</td>\n",
       "      <td>105808</td>\n",
       "      <td>718161</td>\n",
       "      <td>71513</td>\n",
       "      <td>26678</td>\n",
       "      <td>329800</td>\n",
       "      <td>229170.0</td>\n",
       "      <td>182126.0</td>\n",
       "      <td>131625.0</td>\n",
       "      <td>62330.0</td>\n",
       "      <td>20688.0</td>\n",
       "      <td>8904.0</td>\n",
       "      <td>3184.0</td>\n",
       "      <td>1357.0</td>\n",
       "      <td>741.0</td>\n",
       "      <td>1580.0</td>\n",
       "    </tr>\n",
       "    <tr>\n",
       "      <th>1</th>\n",
       "      <td>5</td>\n",
       "      <td>Cowboy Bebop: Tengoku no Tobira</td>\n",
       "      <td>8.39</td>\n",
       "      <td>Action, Drama, Mystery, Sci-Fi, Space</td>\n",
       "      <td>Cowboy Bebop:The Movie</td>\n",
       "      <td>カウボーイビバップ 天国の扉</td>\n",
       "      <td>Movie</td>\n",
       "      <td>1</td>\n",
       "      <td>Sep 1, 2001</td>\n",
       "      <td>Unknown</td>\n",
       "      <td>Sunrise, Bandai Visual</td>\n",
       "      <td>Sony Pictures Entertainment</td>\n",
       "      <td>Bones</td>\n",
       "      <td>Original</td>\n",
       "      <td>1 hr. 55 min.</td>\n",
       "      <td>R - 17+ (violence &amp; profanity)</td>\n",
       "      <td>159.0</td>\n",
       "      <td>518</td>\n",
       "      <td>273145</td>\n",
       "      <td>1174</td>\n",
       "      <td>4143</td>\n",
       "      <td>208333</td>\n",
       "      <td>1935</td>\n",
       "      <td>770</td>\n",
       "      <td>57964</td>\n",
       "      <td>30043.0</td>\n",
       "      <td>49201.0</td>\n",
       "      <td>49505.0</td>\n",
       "      <td>22632.0</td>\n",
       "      <td>5805.0</td>\n",
       "      <td>1877.0</td>\n",
       "      <td>577.0</td>\n",
       "      <td>221.0</td>\n",
       "      <td>109.0</td>\n",
       "      <td>379.0</td>\n",
       "    </tr>\n",
       "    <tr>\n",
       "      <th>2</th>\n",
       "      <td>6</td>\n",
       "      <td>Trigun</td>\n",
       "      <td>8.24</td>\n",
       "      <td>Action, Sci-Fi, Adventure, Comedy, Drama, Shounen</td>\n",
       "      <td>Trigun</td>\n",
       "      <td>トライガン</td>\n",
       "      <td>TV</td>\n",
       "      <td>26</td>\n",
       "      <td>Apr 1, 1998 to Sep 30, 1998</td>\n",
       "      <td>Spring 1998</td>\n",
       "      <td>Victor Entertainment</td>\n",
       "      <td>Funimation, Geneon Entertainment USA</td>\n",
       "      <td>Madhouse</td>\n",
       "      <td>Manga</td>\n",
       "      <td>24 min. per ep.</td>\n",
       "      <td>PG-13 - Teens 13 or older</td>\n",
       "      <td>266.0</td>\n",
       "      <td>201</td>\n",
       "      <td>558913</td>\n",
       "      <td>12944</td>\n",
       "      <td>29113</td>\n",
       "      <td>343492</td>\n",
       "      <td>25465</td>\n",
       "      <td>13925</td>\n",
       "      <td>146918</td>\n",
       "      <td>50229.0</td>\n",
       "      <td>75651.0</td>\n",
       "      <td>86142.0</td>\n",
       "      <td>49432.0</td>\n",
       "      <td>15376.0</td>\n",
       "      <td>5838.0</td>\n",
       "      <td>1965.0</td>\n",
       "      <td>664.0</td>\n",
       "      <td>316.0</td>\n",
       "      <td>533.0</td>\n",
       "    </tr>\n",
       "    <tr>\n",
       "      <th>3</th>\n",
       "      <td>7</td>\n",
       "      <td>Witch Hunter Robin</td>\n",
       "      <td>7.27</td>\n",
       "      <td>Action, Mystery, Police, Supernatural, Drama, ...</td>\n",
       "      <td>Witch Hunter Robin</td>\n",
       "      <td>Witch Hunter ROBIN (ウイッチハンターロビン)</td>\n",
       "      <td>TV</td>\n",
       "      <td>26</td>\n",
       "      <td>Jul 2, 2002 to Dec 24, 2002</td>\n",
       "      <td>Summer 2002</td>\n",
       "      <td>TV Tokyo, Bandai Visual, Dentsu, Victor Entert...</td>\n",
       "      <td>Funimation, Bandai Entertainment</td>\n",
       "      <td>Sunrise</td>\n",
       "      <td>Original</td>\n",
       "      <td>25 min. per ep.</td>\n",
       "      <td>PG-13 - Teens 13 or older</td>\n",
       "      <td>2481.0</td>\n",
       "      <td>1467</td>\n",
       "      <td>94683</td>\n",
       "      <td>587</td>\n",
       "      <td>4300</td>\n",
       "      <td>46165</td>\n",
       "      <td>5121</td>\n",
       "      <td>5378</td>\n",
       "      <td>33719</td>\n",
       "      <td>2182.0</td>\n",
       "      <td>4806.0</td>\n",
       "      <td>10128.0</td>\n",
       "      <td>11618.0</td>\n",
       "      <td>5709.0</td>\n",
       "      <td>2920.0</td>\n",
       "      <td>1083.0</td>\n",
       "      <td>353.0</td>\n",
       "      <td>164.0</td>\n",
       "      <td>131.0</td>\n",
       "    </tr>\n",
       "    <tr>\n",
       "      <th>4</th>\n",
       "      <td>8</td>\n",
       "      <td>Bouken Ou Beet</td>\n",
       "      <td>6.98</td>\n",
       "      <td>Adventure, Fantasy, Shounen, Supernatural</td>\n",
       "      <td>Beet the Vandel Buster</td>\n",
       "      <td>冒険王ビィト</td>\n",
       "      <td>TV</td>\n",
       "      <td>52</td>\n",
       "      <td>Sep 30, 2004 to Sep 29, 2005</td>\n",
       "      <td>Fall 2004</td>\n",
       "      <td>TV Tokyo, Dentsu</td>\n",
       "      <td>Unknown</td>\n",
       "      <td>Toei Animation</td>\n",
       "      <td>Manga</td>\n",
       "      <td>23 min. per ep.</td>\n",
       "      <td>PG - Children</td>\n",
       "      <td>3710.0</td>\n",
       "      <td>4369</td>\n",
       "      <td>13224</td>\n",
       "      <td>18</td>\n",
       "      <td>642</td>\n",
       "      <td>7314</td>\n",
       "      <td>766</td>\n",
       "      <td>1108</td>\n",
       "      <td>3394</td>\n",
       "      <td>312.0</td>\n",
       "      <td>529.0</td>\n",
       "      <td>1242.0</td>\n",
       "      <td>1713.0</td>\n",
       "      <td>1068.0</td>\n",
       "      <td>634.0</td>\n",
       "      <td>265.0</td>\n",
       "      <td>83.0</td>\n",
       "      <td>50.0</td>\n",
       "      <td>27.0</td>\n",
       "    </tr>\n",
       "  </tbody>\n",
       "</table>\n",
       "</div>"
      ],
      "text/plain": [
       "   MAL_ID                             Name Score  \\\n",
       "0       1                     Cowboy Bebop  8.78   \n",
       "1       5  Cowboy Bebop: Tengoku no Tobira  8.39   \n",
       "2       6                           Trigun  8.24   \n",
       "3       7               Witch Hunter Robin  7.27   \n",
       "4       8                   Bouken Ou Beet  6.98   \n",
       "\n",
       "                                              Genres            English name  \\\n",
       "0    Action, Adventure, Comedy, Drama, Sci-Fi, Space            Cowboy Bebop   \n",
       "1              Action, Drama, Mystery, Sci-Fi, Space  Cowboy Bebop:The Movie   \n",
       "2  Action, Sci-Fi, Adventure, Comedy, Drama, Shounen                  Trigun   \n",
       "3  Action, Mystery, Police, Supernatural, Drama, ...      Witch Hunter Robin   \n",
       "4          Adventure, Fantasy, Shounen, Supernatural  Beet the Vandel Buster   \n",
       "\n",
       "                      Japanese name   Type Episodes  \\\n",
       "0                         カウボーイビバップ     TV       26   \n",
       "1                    カウボーイビバップ 天国の扉  Movie        1   \n",
       "2                             トライガン     TV       26   \n",
       "3  Witch Hunter ROBIN (ウイッチハンターロビン)     TV       26   \n",
       "4                            冒険王ビィト     TV       52   \n",
       "\n",
       "                          Aired    Premiered  \\\n",
       "0   Apr 3, 1998 to Apr 24, 1999  Spring 1998   \n",
       "1                   Sep 1, 2001      Unknown   \n",
       "2   Apr 1, 1998 to Sep 30, 1998  Spring 1998   \n",
       "3   Jul 2, 2002 to Dec 24, 2002  Summer 2002   \n",
       "4  Sep 30, 2004 to Sep 29, 2005    Fall 2004   \n",
       "\n",
       "                                           Producers  \\\n",
       "0                                      Bandai Visual   \n",
       "1                             Sunrise, Bandai Visual   \n",
       "2                               Victor Entertainment   \n",
       "3  TV Tokyo, Bandai Visual, Dentsu, Victor Entert...   \n",
       "4                                   TV Tokyo, Dentsu   \n",
       "\n",
       "                              Licensors         Studios    Source  \\\n",
       "0      Funimation, Bandai Entertainment         Sunrise  Original   \n",
       "1           Sony Pictures Entertainment           Bones  Original   \n",
       "2  Funimation, Geneon Entertainment USA        Madhouse     Manga   \n",
       "3      Funimation, Bandai Entertainment         Sunrise  Original   \n",
       "4                               Unknown  Toei Animation     Manga   \n",
       "\n",
       "          Duration                          Rating  Ranked  Popularity  \\\n",
       "0  24 min. per ep.  R - 17+ (violence & profanity)    28.0          39   \n",
       "1    1 hr. 55 min.  R - 17+ (violence & profanity)   159.0         518   \n",
       "2  24 min. per ep.       PG-13 - Teens 13 or older   266.0         201   \n",
       "3  25 min. per ep.       PG-13 - Teens 13 or older  2481.0        1467   \n",
       "4  23 min. per ep.                   PG - Children  3710.0        4369   \n",
       "\n",
       "   Members  Favorites  Watching  Completed  On-Hold  Dropped  Plan to Watch  \\\n",
       "0  1251960      61971    105808     718161    71513    26678         329800   \n",
       "1   273145       1174      4143     208333     1935      770          57964   \n",
       "2   558913      12944     29113     343492    25465    13925         146918   \n",
       "3    94683        587      4300      46165     5121     5378          33719   \n",
       "4    13224         18       642       7314      766     1108           3394   \n",
       "\n",
       "   Score-10   Score-9   Score-8  Score-7  Score-6 Score-5 Score-4 Score-3  \\\n",
       "0  229170.0  182126.0  131625.0  62330.0  20688.0  8904.0  3184.0  1357.0   \n",
       "1   30043.0   49201.0   49505.0  22632.0   5805.0  1877.0   577.0   221.0   \n",
       "2   50229.0   75651.0   86142.0  49432.0  15376.0  5838.0  1965.0   664.0   \n",
       "3    2182.0    4806.0   10128.0  11618.0   5709.0  2920.0  1083.0   353.0   \n",
       "4     312.0     529.0    1242.0   1713.0   1068.0   634.0   265.0    83.0   \n",
       "\n",
       "  Score-2 Score-1  \n",
       "0   741.0  1580.0  \n",
       "1   109.0   379.0  \n",
       "2   316.0   533.0  \n",
       "3   164.0   131.0  \n",
       "4    50.0    27.0  "
      ]
     },
     "execution_count": 4,
     "metadata": {},
     "output_type": "execute_result"
    }
   ],
   "source": [
    "df.head() "
   ]
  },
  {
   "cell_type": "code",
   "execution_count": 5,
   "id": "014983b3",
   "metadata": {},
   "outputs": [],
   "source": [
    "df = df.replace('Unknown', float(0))"
   ]
  },
  {
   "cell_type": "code",
   "execution_count": 6,
   "id": "7bbf4545",
   "metadata": {},
   "outputs": [
    {
     "data": {
      "text/html": [
       "<div>\n",
       "<style scoped>\n",
       "    .dataframe tbody tr th:only-of-type {\n",
       "        vertical-align: middle;\n",
       "    }\n",
       "\n",
       "    .dataframe tbody tr th {\n",
       "        vertical-align: top;\n",
       "    }\n",
       "\n",
       "    .dataframe thead th {\n",
       "        text-align: right;\n",
       "    }\n",
       "</style>\n",
       "<table border=\"1\" class=\"dataframe\">\n",
       "  <thead>\n",
       "    <tr style=\"text-align: right;\">\n",
       "      <th></th>\n",
       "      <th>MAL_ID</th>\n",
       "      <th>Name</th>\n",
       "      <th>Score</th>\n",
       "      <th>Genres</th>\n",
       "      <th>English name</th>\n",
       "      <th>Japanese name</th>\n",
       "      <th>Type</th>\n",
       "      <th>Episodes</th>\n",
       "      <th>Aired</th>\n",
       "      <th>Premiered</th>\n",
       "      <th>Producers</th>\n",
       "      <th>Licensors</th>\n",
       "      <th>Studios</th>\n",
       "      <th>Source</th>\n",
       "      <th>Duration</th>\n",
       "      <th>Rating</th>\n",
       "      <th>Ranked</th>\n",
       "      <th>Popularity</th>\n",
       "      <th>Members</th>\n",
       "      <th>Favorites</th>\n",
       "      <th>Watching</th>\n",
       "      <th>Completed</th>\n",
       "      <th>On-Hold</th>\n",
       "      <th>Dropped</th>\n",
       "      <th>Plan to Watch</th>\n",
       "      <th>Score-10</th>\n",
       "      <th>Score-9</th>\n",
       "      <th>Score-8</th>\n",
       "      <th>Score-7</th>\n",
       "      <th>Score-6</th>\n",
       "      <th>Score-5</th>\n",
       "      <th>Score-4</th>\n",
       "      <th>Score-3</th>\n",
       "      <th>Score-2</th>\n",
       "      <th>Score-1</th>\n",
       "    </tr>\n",
       "  </thead>\n",
       "  <tbody>\n",
       "    <tr>\n",
       "      <th>0</th>\n",
       "      <td>1</td>\n",
       "      <td>Cowboy Bebop</td>\n",
       "      <td>8.78</td>\n",
       "      <td>Action, Adventure, Comedy, Drama, Sci-Fi, Space</td>\n",
       "      <td>Cowboy Bebop</td>\n",
       "      <td>カウボーイビバップ</td>\n",
       "      <td>TV</td>\n",
       "      <td>26</td>\n",
       "      <td>Apr 3, 1998 to Apr 24, 1999</td>\n",
       "      <td>Spring 1998</td>\n",
       "      <td>Bandai Visual</td>\n",
       "      <td>Funimation, Bandai Entertainment</td>\n",
       "      <td>Sunrise</td>\n",
       "      <td>Original</td>\n",
       "      <td>24 min. per ep.</td>\n",
       "      <td>R - 17+ (violence &amp; profanity)</td>\n",
       "      <td>28.0</td>\n",
       "      <td>39</td>\n",
       "      <td>1251960</td>\n",
       "      <td>61971</td>\n",
       "      <td>105808</td>\n",
       "      <td>718161</td>\n",
       "      <td>71513</td>\n",
       "      <td>26678</td>\n",
       "      <td>329800</td>\n",
       "      <td>229170.0</td>\n",
       "      <td>182126.0</td>\n",
       "      <td>131625.0</td>\n",
       "      <td>62330.0</td>\n",
       "      <td>20688.0</td>\n",
       "      <td>8904.0</td>\n",
       "      <td>3184.0</td>\n",
       "      <td>1357.0</td>\n",
       "      <td>741.0</td>\n",
       "      <td>1580.0</td>\n",
       "    </tr>\n",
       "    <tr>\n",
       "      <th>1</th>\n",
       "      <td>5</td>\n",
       "      <td>Cowboy Bebop: Tengoku no Tobira</td>\n",
       "      <td>8.39</td>\n",
       "      <td>Action, Drama, Mystery, Sci-Fi, Space</td>\n",
       "      <td>Cowboy Bebop:The Movie</td>\n",
       "      <td>カウボーイビバップ 天国の扉</td>\n",
       "      <td>Movie</td>\n",
       "      <td>1</td>\n",
       "      <td>Sep 1, 2001</td>\n",
       "      <td>0.0</td>\n",
       "      <td>Sunrise, Bandai Visual</td>\n",
       "      <td>Sony Pictures Entertainment</td>\n",
       "      <td>Bones</td>\n",
       "      <td>Original</td>\n",
       "      <td>1 hr. 55 min.</td>\n",
       "      <td>R - 17+ (violence &amp; profanity)</td>\n",
       "      <td>159.0</td>\n",
       "      <td>518</td>\n",
       "      <td>273145</td>\n",
       "      <td>1174</td>\n",
       "      <td>4143</td>\n",
       "      <td>208333</td>\n",
       "      <td>1935</td>\n",
       "      <td>770</td>\n",
       "      <td>57964</td>\n",
       "      <td>30043.0</td>\n",
       "      <td>49201.0</td>\n",
       "      <td>49505.0</td>\n",
       "      <td>22632.0</td>\n",
       "      <td>5805.0</td>\n",
       "      <td>1877.0</td>\n",
       "      <td>577.0</td>\n",
       "      <td>221.0</td>\n",
       "      <td>109.0</td>\n",
       "      <td>379.0</td>\n",
       "    </tr>\n",
       "  </tbody>\n",
       "</table>\n",
       "</div>"
      ],
      "text/plain": [
       "   MAL_ID                             Name Score  \\\n",
       "0       1                     Cowboy Bebop  8.78   \n",
       "1       5  Cowboy Bebop: Tengoku no Tobira  8.39   \n",
       "\n",
       "                                            Genres            English name  \\\n",
       "0  Action, Adventure, Comedy, Drama, Sci-Fi, Space            Cowboy Bebop   \n",
       "1            Action, Drama, Mystery, Sci-Fi, Space  Cowboy Bebop:The Movie   \n",
       "\n",
       "    Japanese name   Type Episodes                        Aired    Premiered  \\\n",
       "0       カウボーイビバップ     TV       26  Apr 3, 1998 to Apr 24, 1999  Spring 1998   \n",
       "1  カウボーイビバップ 天国の扉  Movie        1                  Sep 1, 2001          0.0   \n",
       "\n",
       "                Producers                         Licensors  Studios  \\\n",
       "0           Bandai Visual  Funimation, Bandai Entertainment  Sunrise   \n",
       "1  Sunrise, Bandai Visual       Sony Pictures Entertainment    Bones   \n",
       "\n",
       "     Source         Duration                          Rating Ranked  \\\n",
       "0  Original  24 min. per ep.  R - 17+ (violence & profanity)   28.0   \n",
       "1  Original    1 hr. 55 min.  R - 17+ (violence & profanity)  159.0   \n",
       "\n",
       "   Popularity  Members  Favorites  Watching  Completed  On-Hold  Dropped  \\\n",
       "0          39  1251960      61971    105808     718161    71513    26678   \n",
       "1         518   273145       1174      4143     208333     1935      770   \n",
       "\n",
       "   Plan to Watch  Score-10   Score-9   Score-8  Score-7  Score-6 Score-5  \\\n",
       "0         329800  229170.0  182126.0  131625.0  62330.0  20688.0  8904.0   \n",
       "1          57964   30043.0   49201.0   49505.0  22632.0   5805.0  1877.0   \n",
       "\n",
       "  Score-4 Score-3 Score-2 Score-1  \n",
       "0  3184.0  1357.0   741.0  1580.0  \n",
       "1   577.0   221.0   109.0   379.0  "
      ]
     },
     "execution_count": 6,
     "metadata": {},
     "output_type": "execute_result"
    }
   ],
   "source": [
    "df.head(2)"
   ]
  },
  {
   "cell_type": "code",
   "execution_count": 7,
   "id": "8a41ceb9",
   "metadata": {},
   "outputs": [],
   "source": [
    "df=df.drop(['MAL_ID', 'Name', 'Genres', 'English name', 'Japanese name',\n",
    "       'Type', 'Aired', 'Premiered', 'Producers', 'Licensors',\n",
    "       'Studios', 'Source', 'Duration', 'Rating', 'Ranked', 'Score-10', 'Score-9', 'Score-8', 'Score-7', 'Score-6',\n",
    "       'Score-5', 'Score-4', 'Score-3', 'Score-2', 'Score-1'],axis=1)"
   ]
  },
  {
   "cell_type": "code",
   "execution_count": 8,
   "id": "5a8ed587",
   "metadata": {},
   "outputs": [
    {
     "data": {
      "text/html": [
       "<div>\n",
       "<style scoped>\n",
       "    .dataframe tbody tr th:only-of-type {\n",
       "        vertical-align: middle;\n",
       "    }\n",
       "\n",
       "    .dataframe tbody tr th {\n",
       "        vertical-align: top;\n",
       "    }\n",
       "\n",
       "    .dataframe thead th {\n",
       "        text-align: right;\n",
       "    }\n",
       "</style>\n",
       "<table border=\"1\" class=\"dataframe\">\n",
       "  <thead>\n",
       "    <tr style=\"text-align: right;\">\n",
       "      <th></th>\n",
       "      <th>Score</th>\n",
       "      <th>Episodes</th>\n",
       "      <th>Popularity</th>\n",
       "      <th>Members</th>\n",
       "      <th>Favorites</th>\n",
       "      <th>Watching</th>\n",
       "      <th>Completed</th>\n",
       "      <th>On-Hold</th>\n",
       "      <th>Dropped</th>\n",
       "      <th>Plan to Watch</th>\n",
       "    </tr>\n",
       "  </thead>\n",
       "  <tbody>\n",
       "    <tr>\n",
       "      <th>0</th>\n",
       "      <td>8.78</td>\n",
       "      <td>26</td>\n",
       "      <td>39</td>\n",
       "      <td>1251960</td>\n",
       "      <td>61971</td>\n",
       "      <td>105808</td>\n",
       "      <td>718161</td>\n",
       "      <td>71513</td>\n",
       "      <td>26678</td>\n",
       "      <td>329800</td>\n",
       "    </tr>\n",
       "    <tr>\n",
       "      <th>1</th>\n",
       "      <td>8.39</td>\n",
       "      <td>1</td>\n",
       "      <td>518</td>\n",
       "      <td>273145</td>\n",
       "      <td>1174</td>\n",
       "      <td>4143</td>\n",
       "      <td>208333</td>\n",
       "      <td>1935</td>\n",
       "      <td>770</td>\n",
       "      <td>57964</td>\n",
       "    </tr>\n",
       "    <tr>\n",
       "      <th>2</th>\n",
       "      <td>8.24</td>\n",
       "      <td>26</td>\n",
       "      <td>201</td>\n",
       "      <td>558913</td>\n",
       "      <td>12944</td>\n",
       "      <td>29113</td>\n",
       "      <td>343492</td>\n",
       "      <td>25465</td>\n",
       "      <td>13925</td>\n",
       "      <td>146918</td>\n",
       "    </tr>\n",
       "    <tr>\n",
       "      <th>3</th>\n",
       "      <td>7.27</td>\n",
       "      <td>26</td>\n",
       "      <td>1467</td>\n",
       "      <td>94683</td>\n",
       "      <td>587</td>\n",
       "      <td>4300</td>\n",
       "      <td>46165</td>\n",
       "      <td>5121</td>\n",
       "      <td>5378</td>\n",
       "      <td>33719</td>\n",
       "    </tr>\n",
       "    <tr>\n",
       "      <th>4</th>\n",
       "      <td>6.98</td>\n",
       "      <td>52</td>\n",
       "      <td>4369</td>\n",
       "      <td>13224</td>\n",
       "      <td>18</td>\n",
       "      <td>642</td>\n",
       "      <td>7314</td>\n",
       "      <td>766</td>\n",
       "      <td>1108</td>\n",
       "      <td>3394</td>\n",
       "    </tr>\n",
       "  </tbody>\n",
       "</table>\n",
       "</div>"
      ],
      "text/plain": [
       "  Score Episodes  Popularity  Members  Favorites  Watching  Completed  \\\n",
       "0  8.78       26          39  1251960      61971    105808     718161   \n",
       "1  8.39        1         518   273145       1174      4143     208333   \n",
       "2  8.24       26         201   558913      12944     29113     343492   \n",
       "3  7.27       26        1467    94683        587      4300      46165   \n",
       "4  6.98       52        4369    13224         18       642       7314   \n",
       "\n",
       "   On-Hold  Dropped  Plan to Watch  \n",
       "0    71513    26678         329800  \n",
       "1     1935      770          57964  \n",
       "2    25465    13925         146918  \n",
       "3     5121     5378          33719  \n",
       "4      766     1108           3394  "
      ]
     },
     "execution_count": 8,
     "metadata": {},
     "output_type": "execute_result"
    }
   ],
   "source": [
    "df.head()"
   ]
  },
  {
   "cell_type": "code",
   "execution_count": 9,
   "id": "9e9d3d66",
   "metadata": {},
   "outputs": [],
   "source": [
    "df=df.astype(float)"
   ]
  },
  {
   "cell_type": "code",
   "execution_count": 10,
   "id": "8c4966c4",
   "metadata": {},
   "outputs": [
    {
     "data": {
      "text/plain": [
       "(17562, 10)"
      ]
     },
     "execution_count": 10,
     "metadata": {},
     "output_type": "execute_result"
    }
   ],
   "source": [
    "df.shape"
   ]
  },
  {
   "cell_type": "code",
   "execution_count": 11,
   "id": "5c6aac66",
   "metadata": {},
   "outputs": [],
   "source": [
    "df = df[df.Score > 0.0]"
   ]
  },
  {
   "cell_type": "code",
   "execution_count": 12,
   "id": "ddb5013a",
   "metadata": {},
   "outputs": [
    {
     "data": {
      "text/plain": [
       "Score            0\n",
       "Episodes         0\n",
       "Popularity       0\n",
       "Members          0\n",
       "Favorites        0\n",
       "Watching         0\n",
       "Completed        0\n",
       "On-Hold          0\n",
       "Dropped          0\n",
       "Plan to Watch    0\n",
       "dtype: int64"
      ]
     },
     "execution_count": 12,
     "metadata": {},
     "output_type": "execute_result"
    }
   ],
   "source": [
    "df.isnull().sum() "
   ]
  },
  {
   "cell_type": "code",
   "execution_count": 13,
   "id": "712f32ff",
   "metadata": {},
   "outputs": [
    {
     "data": {
      "text/plain": [
       "Index(['Score', 'Episodes', 'Popularity', 'Members', 'Favorites', 'Watching',\n",
       "       'Completed', 'On-Hold', 'Dropped', 'Plan to Watch'],\n",
       "      dtype='object')"
      ]
     },
     "execution_count": 13,
     "metadata": {},
     "output_type": "execute_result"
    }
   ],
   "source": [
    "df.columns"
   ]
  },
  {
   "cell_type": "code",
   "execution_count": 14,
   "id": "a6976e70",
   "metadata": {},
   "outputs": [],
   "source": [
    "Y=df.Score"
   ]
  },
  {
   "cell_type": "code",
   "execution_count": 15,
   "id": "048ffa6c",
   "metadata": {},
   "outputs": [],
   "source": [
    "X=df.drop(['Score'],axis=1)"
   ]
  },
  {
   "cell_type": "code",
   "execution_count": 16,
   "id": "b0b77c52",
   "metadata": {},
   "outputs": [
    {
     "data": {
      "text/plain": [
       "0    8.78\n",
       "1    8.39\n",
       "Name: Score, dtype: float64"
      ]
     },
     "execution_count": 16,
     "metadata": {},
     "output_type": "execute_result"
    }
   ],
   "source": [
    "Y.head(2)"
   ]
  },
  {
   "cell_type": "code",
   "execution_count": 17,
   "id": "b3727a0d",
   "metadata": {},
   "outputs": [
    {
     "data": {
      "text/html": [
       "<div>\n",
       "<style scoped>\n",
       "    .dataframe tbody tr th:only-of-type {\n",
       "        vertical-align: middle;\n",
       "    }\n",
       "\n",
       "    .dataframe tbody tr th {\n",
       "        vertical-align: top;\n",
       "    }\n",
       "\n",
       "    .dataframe thead th {\n",
       "        text-align: right;\n",
       "    }\n",
       "</style>\n",
       "<table border=\"1\" class=\"dataframe\">\n",
       "  <thead>\n",
       "    <tr style=\"text-align: right;\">\n",
       "      <th></th>\n",
       "      <th>Episodes</th>\n",
       "      <th>Popularity</th>\n",
       "      <th>Members</th>\n",
       "      <th>Favorites</th>\n",
       "      <th>Watching</th>\n",
       "      <th>Completed</th>\n",
       "      <th>On-Hold</th>\n",
       "      <th>Dropped</th>\n",
       "      <th>Plan to Watch</th>\n",
       "    </tr>\n",
       "  </thead>\n",
       "  <tbody>\n",
       "    <tr>\n",
       "      <th>0</th>\n",
       "      <td>26.0</td>\n",
       "      <td>39.0</td>\n",
       "      <td>1251960.0</td>\n",
       "      <td>61971.0</td>\n",
       "      <td>105808.0</td>\n",
       "      <td>718161.0</td>\n",
       "      <td>71513.0</td>\n",
       "      <td>26678.0</td>\n",
       "      <td>329800.0</td>\n",
       "    </tr>\n",
       "    <tr>\n",
       "      <th>1</th>\n",
       "      <td>1.0</td>\n",
       "      <td>518.0</td>\n",
       "      <td>273145.0</td>\n",
       "      <td>1174.0</td>\n",
       "      <td>4143.0</td>\n",
       "      <td>208333.0</td>\n",
       "      <td>1935.0</td>\n",
       "      <td>770.0</td>\n",
       "      <td>57964.0</td>\n",
       "    </tr>\n",
       "  </tbody>\n",
       "</table>\n",
       "</div>"
      ],
      "text/plain": [
       "   Episodes  Popularity    Members  Favorites  Watching  Completed  On-Hold  \\\n",
       "0      26.0        39.0  1251960.0    61971.0  105808.0   718161.0  71513.0   \n",
       "1       1.0       518.0   273145.0     1174.0    4143.0   208333.0   1935.0   \n",
       "\n",
       "   Dropped  Plan to Watch  \n",
       "0  26678.0       329800.0  \n",
       "1    770.0        57964.0  "
      ]
     },
     "execution_count": 17,
     "metadata": {},
     "output_type": "execute_result"
    }
   ],
   "source": [
    "X.head(2)"
   ]
  },
  {
   "cell_type": "code",
   "execution_count": 18,
   "id": "260bab9c",
   "metadata": {
    "scrolled": true
   },
   "outputs": [],
   "source": [
    "#sns.pairplot(df)"
   ]
  },
  {
   "cell_type": "code",
   "execution_count": 19,
   "id": "7f132990",
   "metadata": {},
   "outputs": [],
   "source": [
    "#X=X.replace('Unknown', float(0))"
   ]
  },
  {
   "cell_type": "code",
   "execution_count": 20,
   "id": "bc4d7dfb",
   "metadata": {},
   "outputs": [],
   "source": [
    "#Y=Y.replace('Unknown', float(0))"
   ]
  },
  {
   "cell_type": "code",
   "execution_count": 21,
   "id": "ee70331a",
   "metadata": {},
   "outputs": [],
   "source": [
    "Y=Y.astype(float)"
   ]
  },
  {
   "cell_type": "code",
   "execution_count": 22,
   "id": "0554d5d7",
   "metadata": {},
   "outputs": [],
   "source": [
    "X=X.astype(float)"
   ]
  },
  {
   "cell_type": "code",
   "execution_count": 23,
   "id": "6e3799d9",
   "metadata": {},
   "outputs": [
    {
     "data": {
      "text/plain": [
       "(12421,)"
      ]
     },
     "execution_count": 23,
     "metadata": {},
     "output_type": "execute_result"
    }
   ],
   "source": [
    "Y.shape"
   ]
  },
  {
   "cell_type": "code",
   "execution_count": 24,
   "id": "adbd7cfd",
   "metadata": {},
   "outputs": [
    {
     "data": {
      "text/plain": [
       "(12421, 9)"
      ]
     },
     "execution_count": 24,
     "metadata": {},
     "output_type": "execute_result"
    }
   ],
   "source": [
    "X.shape"
   ]
  },
  {
   "cell_type": "markdown",
   "id": "31a226f7",
   "metadata": {},
   "source": [
    "## Regresión Ridge"
   ]
  },
  {
   "cell_type": "code",
   "execution_count": 25,
   "id": "202bddca",
   "metadata": {},
   "outputs": [],
   "source": [
    "lambdas= 10**np.linspace(10,2,100)*0.5"
   ]
  },
  {
   "cell_type": "code",
   "execution_count": 26,
   "id": "1d331ce4",
   "metadata": {},
   "outputs": [
    {
     "data": {
      "text/plain": [
       "array([5.00000000e+09, 4.15108784e+09, 3.44630605e+09, 2.86118383e+09,\n",
       "       2.37540508e+09, 1.97210303e+09, 1.63727458e+09, 1.35929412e+09,\n",
       "       1.12850986e+09, 9.36908711e+08, 7.77838072e+08, 6.45774833e+08,\n",
       "       5.36133611e+08, 4.45107543e+08, 3.69536102e+08, 3.06795364e+08,\n",
       "       2.54706901e+08, 2.11462144e+08, 1.75559587e+08, 1.45752653e+08,\n",
       "       1.21006413e+08, 1.00461650e+08, 8.34050269e+07, 6.92443186e+07,\n",
       "       5.74878498e+07, 4.77274228e+07, 3.96241449e+07, 3.28966612e+07,\n",
       "       2.73113861e+07, 2.26743925e+07, 1.88246790e+07, 1.56285792e+07,\n",
       "       1.29751211e+07, 1.07721735e+07, 8.94324765e+06, 7.42484131e+06,\n",
       "       6.16423370e+06, 5.11765511e+06, 4.24876718e+06, 3.52740116e+06,\n",
       "       2.92851041e+06, 2.43130079e+06, 2.01850863e+06, 1.67580133e+06,\n",
       "       1.39127970e+06, 1.15506485e+06, 9.58955131e+05, 7.96141397e+05,\n",
       "       6.60970574e+05, 5.48749383e+05, 4.55581378e+05, 3.78231664e+05,\n",
       "       3.14014572e+05, 2.60700414e+05, 2.16438064e+05, 1.79690683e+05,\n",
       "       1.49182362e+05, 1.23853818e+05, 1.02825615e+05, 8.53676324e+04,\n",
       "       7.08737081e+04, 5.88405976e+04, 4.88504979e+04, 4.05565415e+04,\n",
       "       3.36707533e+04, 2.79540509e+04, 2.32079442e+04, 1.92676430e+04,\n",
       "       1.59963357e+04, 1.32804389e+04, 1.10256537e+04, 9.15369140e+03,\n",
       "       7.59955541e+03, 6.30928442e+03, 5.23807876e+03, 4.34874501e+03,\n",
       "       3.61040451e+03, 2.99742125e+03, 2.48851178e+03, 2.06600620e+03,\n",
       "       1.71523464e+03, 1.42401793e+03, 1.18224471e+03, 9.81520325e+02,\n",
       "       8.14875417e+02, 6.76523887e+02, 5.61662016e+02, 4.66301673e+02,\n",
       "       3.87131841e+02, 3.21403656e+02, 2.66834962e+02, 2.21531073e+02,\n",
       "       1.83918989e+02, 1.52692775e+02, 1.26768225e+02, 1.05245207e+02,\n",
       "       8.73764200e+01, 7.25414389e+01, 6.02251770e+01, 5.00000000e+01])"
      ]
     },
     "execution_count": 26,
     "metadata": {},
     "output_type": "execute_result"
    }
   ],
   "source": [
    "lambdas"
   ]
  },
  {
   "cell_type": "code",
   "execution_count": 27,
   "id": "2c7a4506",
   "metadata": {},
   "outputs": [],
   "source": [
    "#len(np.linspace(10,2,100))"
   ]
  },
  {
   "cell_type": "code",
   "execution_count": 28,
   "id": "d7b5015d",
   "metadata": {},
   "outputs": [],
   "source": [
    "X_train, X_test, Y_train, Y_test = train_test_split(X,Y,test_size=0.2,random_state=1)"
   ]
  },
  {
   "cell_type": "code",
   "execution_count": 29,
   "id": "4bf1c950",
   "metadata": {},
   "outputs": [],
   "source": [
    "from sklearn.linear_model import Ridge, RidgeCV"
   ]
  },
  {
   "cell_type": "code",
   "execution_count": 30,
   "id": "ca26d073",
   "metadata": {},
   "outputs": [
    {
     "name": "stdout",
     "output_type": "stream",
     "text": [
      "(100, 9)\n"
     ]
    },
    {
     "data": {
      "text/plain": [
       "array([ 3.51113926e-13, -3.21690407e-14,  4.70057666e-16,  8.34369370e-15,\n",
       "        2.35096777e-15,  5.84004284e-16,  1.07710721e-14,  7.60929906e-15,\n",
       "        3.02295598e-15])"
      ]
     },
     "execution_count": 30,
     "metadata": {},
     "output_type": "execute_result"
    }
   ],
   "source": [
    "ridge=Ridge(normalize=True)\n",
    "coefs=[]\n",
    "\n",
    "for k in lambdas:\n",
    "    ridge.set_params(alpha=k)\n",
    "    ridge.fit(X_train,Y_train)\n",
    "    coefs.append(ridge.coef_)\n",
    "    \n",
    "print(np.shape(coefs))\n",
    "coefs[0]"
   ]
  },
  {
   "cell_type": "code",
   "execution_count": 31,
   "id": "d9b59f4e",
   "metadata": {},
   "outputs": [
    {
     "data": {
      "text/plain": [
       "(100,)"
      ]
     },
     "execution_count": 31,
     "metadata": {},
     "output_type": "execute_result"
    }
   ],
   "source": [
    "lambdas.shape"
   ]
  },
  {
   "cell_type": "code",
   "execution_count": 32,
   "id": "42f436bb",
   "metadata": {},
   "outputs": [
    {
     "data": {
      "text/plain": [
       "100"
      ]
     },
     "execution_count": 32,
     "metadata": {},
     "output_type": "execute_result"
    }
   ],
   "source": [
    "len(coefs)"
   ]
  },
  {
   "cell_type": "code",
   "execution_count": 33,
   "id": "3b8ab408",
   "metadata": {},
   "outputs": [
    {
     "data": {
      "text/plain": [
       "Text(0, 0.5, 'beta')"
      ]
     },
     "execution_count": 33,
     "metadata": {},
     "output_type": "execute_result"
    },
    {
     "data": {
      "image/png": "[encoded data removed]",
      "text/plain": [
       "<Figure size 432x288 with 1 Axes>"
      ]
     },
     "metadata": {
      "needs_background": "light"
     },
     "output_type": "display_data"
    }
   ],
   "source": [
    "ax = plt.gca()\n",
    "ax.plot(lambdas, coefs)\n",
    "ax.set_xscale('log')\n",
    "plt.axis('tight')\n",
    "plt.xlabel('lambda')\n",
    "plt.ylabel('beta')"
   ]
  },
  {
   "cell_type": "markdown",
   "id": "bfe22f42",
   "metadata": {},
   "source": [
    "## Regresión Ridge con  $\\lambda $=4"
   ]
  },
  {
   "cell_type": "code",
   "execution_count": 34,
   "id": "d2a32eec",
   "metadata": {},
   "outputs": [
    {
     "name": "stdout",
     "output_type": "stream",
     "text": [
      "Episodes         2.587288e-04\n",
      "Popularity      -2.803694e-05\n",
      "Members          2.397957e-07\n",
      "Favorites        2.829336e-06\n",
      "Watching         9.134462e-07\n",
      "Completed        2.919388e-07\n",
      "On-Hold          4.544562e-06\n",
      "Dropped          1.801416e-06\n",
      "Plan to Watch    1.879681e-06\n",
      "dtype: float64\n"
     ]
    }
   ],
   "source": [
    "mod_ridge4 = Ridge(alpha =4, normalize = True)\n",
    "mod_ridge4.fit(X_train, Y_train)\n",
    "print(pd.Series(mod_ridge4.coef_ , index=X.columns))"
   ]
  },
  {
   "cell_type": "code",
   "execution_count": 35,
   "id": "776ae1eb",
   "metadata": {},
   "outputs": [
    {
     "data": {
      "image/png": "[encoded data removed]",
      "text/plain": [
       "<Figure size 432x288 with 1 Axes>"
      ]
     },
     "metadata": {
      "needs_background": "light"
     },
     "output_type": "display_data"
    }
   ],
   "source": [
    "eje_X = range(1,len(mod_ridge4.coef_)+1,1)\n",
    "plt.scatter(eje_X, mod_ridge4.coef_, color='purple')\n",
    "plt.title('Betas')\n",
    "plt.xlabel('indices')\n",
    "plt.ylabel('Valor de coeficientes')\n",
    "plt.show()"
   ]
  },
  {
   "cell_type": "code",
   "execution_count": 36,
   "id": "9e973420",
   "metadata": {},
   "outputs": [],
   "source": [
    "Y_pred = mod_ridge4.predict(X_test)"
   ]
  },
  {
   "cell_type": "code",
   "execution_count": 37,
   "id": "40f30b3b",
   "metadata": {},
   "outputs": [
    {
     "data": {
      "text/plain": [
       "<matplotlib.collections.PathCollection at 0x24163f9ef40>"
      ]
     },
     "execution_count": 37,
     "metadata": {},
     "output_type": "execute_result"
    },
    {
     "data": {
      "image/png": "[encoded data removed]",
      "text/plain": [
       "<Figure size 432x288 with 1 Axes>"
      ]
     },
     "metadata": {
      "needs_background": "light"
     },
     "output_type": "display_data"
    }
   ],
   "source": [
    "plt.scatter(Y_test, Y_pred, color='blue')"
   ]
  },
  {
   "cell_type": "code",
   "execution_count": 38,
   "id": "b35adcfa",
   "metadata": {},
   "outputs": [
    {
     "data": {
      "text/plain": [
       "<matplotlib.collections.PathCollection at 0x24163f67280>"
      ]
     },
     "execution_count": 38,
     "metadata": {},
     "output_type": "execute_result"
    },
    {
     "data": {
      "image/png": "[encoded data removed]",
      "text/plain": [
       "<Figure size 432x288 with 1 Axes>"
      ]
     },
     "metadata": {
      "needs_background": "light"
     },
     "output_type": "display_data"
    }
   ],
   "source": [
    "plt.scatter(Y_test, Y_test, color='blue')"
   ]
  },
  {
   "cell_type": "code",
   "execution_count": 39,
   "id": "11e29a55",
   "metadata": {},
   "outputs": [
    {
     "name": "stdout",
     "output_type": "stream",
     "text": [
      "0.577\n"
     ]
    }
   ],
   "source": [
    "ECM0=round(mean_squared_error(Y_test,Y_pred),3)\n",
    "print(ECM0)"
   ]
  },
  {
   "cell_type": "code",
   "execution_count": 40,
   "id": "0e0218f9",
   "metadata": {},
   "outputs": [
    {
     "name": "stdout",
     "output_type": "stream",
     "text": [
      "R^2= 0.241\n",
      "R^2_adj= 0.24\n"
     ]
    }
   ],
   "source": [
    "# Cálculo de $R^2$ ajustada\n",
    "r_2=r2_score(Y_test,Y_pred)\n",
    "print('R^2=',round(r_2,3))\n",
    "n=len(Y_train)\n",
    "p=X_train.shape[1]\n",
    "r_2_adj=1-(((1-r_2)*(n-1))/(n-p-1))\n",
    "print('R^2_adj=',round(r_2_adj,3))"
   ]
  },
  {
   "cell_type": "code",
   "execution_count": 41,
   "id": "71bdc668",
   "metadata": {},
   "outputs": [
    {
     "data": {
      "image/png": "[encoded data removed]",
      "text/plain": [
       "<Figure size 432x288 with 1 Axes>"
      ]
     },
     "metadata": {
      "needs_background": "light"
     },
     "output_type": "display_data"
    }
   ],
   "source": [
    "#Cálculo de los errores absolutos (real-estimado) y gráficas\n",
    "\n",
    "err_abs = Y_test-Y_pred\n",
    "\n",
    "plt.scatter(Y_test, err_abs, color='blue')\n",
    "plt.plot(Y_test, np.zeros(len(err_abs)),color='red')\n",
    "plt.title(\"Errores absolutos (real-estimado)\")\n",
    "plt.xlabel(\"Puntaje real\")\n",
    "plt.ylabel(\"Errores absolutos\")\n",
    "plt.show()"
   ]
  },
  {
   "cell_type": "code",
   "execution_count": 42,
   "id": "b3d3de32",
   "metadata": {},
   "outputs": [
    {
     "data": {
      "image/png": "[encoded data removed]",
      "text/plain": [
       "<Figure size 432x288 with 1 Axes>"
      ]
     },
     "metadata": {
      "needs_background": "light"
     },
     "output_type": "display_data"
    }
   ],
   "source": [
    "# Gráfica de valores estimados vs valores reales\n",
    "eje_X= range(1,len(Y_test)+1)\n",
    "plt.plot(eje_X,Y_test,color='blue')\n",
    "plt.plot(eje_X,Y_pred,color='violet')\n",
    "plt.title(\"Valores estiumados vs Valores reales\")\n",
    "plt.xlabel(\"Índices\")\n",
    "plt.ylabel(\"Puntaje\")\n",
    "plt.show()"
   ]
  },
  {
   "cell_type": "markdown",
   "id": "768c0a91",
   "metadata": {},
   "source": [
    "En este caso $\\lambda =0$ por lo que no importa el valor que le demos a los coeficientes, pues al multiplicarse por $\\lambda$ sus valores se anulan."
   ]
  },
  {
   "cell_type": "code",
   "execution_count": 43,
   "id": "4fb31c59",
   "metadata": {},
   "outputs": [
    {
     "name": "stdout",
     "output_type": "stream",
     "text": [
      "Episodes         1.291739e-03\n",
      "Popularity      -1.511535e-04\n",
      "Members         -3.798501e-07\n",
      "Favorites       -7.692250e-06\n",
      "Watching         1.648483e-06\n",
      "Completed        1.283789e-06\n",
      "On-Hold          6.052695e-05\n",
      "Dropped         -6.937025e-05\n",
      "Plan to Watch    2.968361e-06\n",
      "dtype: float64\n"
     ]
    },
    {
     "name": "stderr",
     "output_type": "stream",
     "text": [
      "D:\\Anaconda\\lib\\site-packages\\sklearn\\linear_model\\_ridge.py:147: LinAlgWarning: Ill-conditioned matrix (rcond=5.40411e-17): result may not be accurate.\n",
      "  return linalg.solve(A, Xy, sym_pos=True,\n"
     ]
    }
   ],
   "source": [
    "mod_ridge0 = Ridge(alpha =0, normalize = True)\n",
    "mod_ridge0.fit(X_train, Y_train)\n",
    "print(pd.Series(mod_ridge0.coef_ , index=X.columns))"
   ]
  },
  {
   "cell_type": "code",
   "execution_count": 44,
   "id": "7bf1a670",
   "metadata": {},
   "outputs": [
    {
     "data": {
      "image/png": "[encoded data removed]",
      "text/plain": [
       "<Figure size 432x288 with 1 Axes>"
      ]
     },
     "metadata": {
      "needs_background": "light"
     },
     "output_type": "display_data"
    }
   ],
   "source": [
    "eje_X = range(1,len(mod_ridge0.coef_)+1,1)\n",
    "plt.scatter(eje_X, mod_ridge0.coef_, color='purple')\n",
    "plt.title('Betas')\n",
    "plt.xlabel('indices')\n",
    "plt.ylabel('Valor de coeficientes')\n",
    "plt.show()"
   ]
  },
  {
   "cell_type": "code",
   "execution_count": 45,
   "id": "91fe807f",
   "metadata": {},
   "outputs": [],
   "source": [
    "Y_pred = mod_ridge0.predict(X_test)"
   ]
  },
  {
   "cell_type": "code",
   "execution_count": 46,
   "id": "0168dc58",
   "metadata": {},
   "outputs": [
    {
     "data": {
      "text/plain": [
       "<matplotlib.collections.PathCollection at 0x2416523d640>"
      ]
     },
     "execution_count": 46,
     "metadata": {},
     "output_type": "execute_result"
    },
    {
     "data": {
      "image/png": "[encoded data removed]",
      "text/plain": [
       "<Figure size 432x288 with 1 Axes>"
      ]
     },
     "metadata": {
      "needs_background": "light"
     },
     "output_type": "display_data"
    }
   ],
   "source": [
    "plt.scatter(Y_test, Y_pred, color='blue')"
   ]
  },
  {
   "cell_type": "code",
   "execution_count": 47,
   "id": "306a786b",
   "metadata": {},
   "outputs": [
    {
     "name": "stdout",
     "output_type": "stream",
     "text": [
      "0.348\n"
     ]
    }
   ],
   "source": [
    "ECM0=round(mean_squared_error(Y_test,Y_pred),3)\n",
    "print(ECM0)"
   ]
  },
  {
   "cell_type": "code",
   "execution_count": 48,
   "id": "992a508c",
   "metadata": {},
   "outputs": [
    {
     "name": "stdout",
     "output_type": "stream",
     "text": [
      "R^2= 0.542\n",
      "R^2_adj= 0.542\n"
     ]
    }
   ],
   "source": [
    "# Cálculo de $R^2$ ajustada\n",
    "r_2=r2_score(Y_test,Y_pred)\n",
    "print('R^2=',round(r_2,3))\n",
    "n=len(Y_train)\n",
    "p=X_train.shape[1]\n",
    "r_2_adj=1-(((1-r_2)*(n-1))/(n-p-1))\n",
    "print('R^2_adj=',round(r_2_adj,3))"
   ]
  },
  {
   "cell_type": "code",
   "execution_count": 49,
   "id": "368d0e87",
   "metadata": {},
   "outputs": [
    {
     "data": {
      "image/png": "[encoded data removed]",
      "text/plain": [
       "<Figure size 432x288 with 1 Axes>"
      ]
     },
     "metadata": {
      "needs_background": "light"
     },
     "output_type": "display_data"
    }
   ],
   "source": [
    "#Cálculo de los errores absolutos (real-estimado) y gráficas\n",
    "\n",
    "err_abs = Y_test-Y_pred\n",
    "\n",
    "plt.scatter(Y_test, err_abs, color='blue')\n",
    "plt.plot(Y_test, np.zeros(len(err_abs)),color='red')\n",
    "plt.title(\"Errores absolutos (real-estimado)\")\n",
    "plt.xlabel(\"Puntaje real\")\n",
    "plt.ylabel(\"Errores absolutos\")\n",
    "plt.show()"
   ]
  },
  {
   "cell_type": "code",
   "execution_count": 50,
   "id": "b7994a05",
   "metadata": {},
   "outputs": [
    {
     "data": {
      "image/png": "[encoded data removed]",
      "text/plain": [
       "<Figure size 432x288 with 1 Axes>"
      ]
     },
     "metadata": {
      "needs_background": "light"
     },
     "output_type": "display_data"
    }
   ],
   "source": [
    "# Gráfica de valores estimados vs valores reales\n",
    "eje_X= range(1,len(Y_test)+1)\n",
    "plt.plot(eje_X,Y_test,color='blue')\n",
    "plt.plot(eje_X,Y_pred,color='violet')\n",
    "plt.title(\"Valores estiumados vs Valores reales\")\n",
    "plt.xlabel(\"Índices\")\n",
    "plt.ylabel(\"Puntaje\")\n",
    "plt.show()"
   ]
  },
  {
   "cell_type": "markdown",
   "id": "c19bbe8a",
   "metadata": {},
   "source": [
    "## $\\lambda$ definida con cross-validation"
   ]
  },
  {
   "cell_type": "code",
   "execution_count": 51,
   "id": "1a73432c",
   "metadata": {},
   "outputs": [
    {
     "name": "stdout",
     "output_type": "stream",
     "text": [
      "El valor de lambda con cross validation es: 50.0\n"
     ]
    }
   ],
   "source": [
    "# Proporcionamos como parámetro el vector con los diferentes valores de lambda para que se elija el mejor con \"cross validation\"\n",
    "ridgecv=RidgeCV(alphas=lambdas, scoring='neg_mean_squared_error',normalize=True)\n",
    "ridgecv.fit(X_train,Y_train)\n",
    "print('El valor de lambda con cross validation es:' ,round(ridgecv.alpha_,3))"
   ]
  },
  {
   "cell_type": "code",
   "execution_count": 52,
   "id": "06569c26",
   "metadata": {},
   "outputs": [
    {
     "data": {
      "text/plain": [
       "True"
      ]
     },
     "execution_count": 52,
     "metadata": {},
     "output_type": "execute_result"
    }
   ],
   "source": [
    "ridgecv.alpha_ in lambdas"
   ]
  },
  {
   "cell_type": "code",
   "execution_count": 53,
   "id": "bddf7d4c",
   "metadata": {},
   "outputs": [
    {
     "name": "stdout",
     "output_type": "stream",
     "text": [
      "Episodes         3.274603e-05\n",
      "Popularity      -3.078774e-06\n",
      "Members          4.224015e-08\n",
      "Favorites        7.234785e-07\n",
      "Watching         2.058485e-07\n",
      "Completed        5.240203e-08\n",
      "On-Hold          9.505743e-07\n",
      "Dropped          6.521502e-07\n",
      "Plan to Watch    2.771085e-07\n",
      "dtype: float64\n"
     ]
    }
   ],
   "source": [
    "# Se muestran los valores de los coeficientes por pantalla\n",
    "mod_ridgeCV = Ridge(alpha=ridgecv.alpha_, normalize = True)\n",
    "mod_ridgeCV.fit(X_train,Y_train)\n",
    "print(pd.Series(mod_ridgeCV.coef_, index = X.columns))"
   ]
  },
  {
   "cell_type": "code",
   "execution_count": 54,
   "id": "df9fb2cd",
   "metadata": {},
   "outputs": [
    {
     "data": {
      "image/png": "[encoded data removed]",
      "text/plain": [
       "<Figure size 432x288 with 1 Axes>"
      ]
     },
     "metadata": {
      "needs_background": "light"
     },
     "output_type": "display_data"
    }
   ],
   "source": [
    "# Se grafican los valores de los coeficientes (betas).\n",
    "eje_X= range(1,len(mod_ridgeCV.coef_)+1,1)\n",
    "plt.scatter(eje_X, mod_ridgeCV.coef_, color = 'purple')\n",
    "plt.title('Betas')\n",
    "plt.xlabel('índices')\n",
    "plt.ylabel('Valor de coeficientes')\n",
    "plt.show()"
   ]
  },
  {
   "cell_type": "code",
   "execution_count": 55,
   "id": "307e9a0e",
   "metadata": {},
   "outputs": [],
   "source": [
    "#Predicción\n",
    "#Se hacen als predicciones con X_test\n",
    "Y_pred = mod_ridgeCV.predict(X_test)"
   ]
  },
  {
   "cell_type": "code",
   "execution_count": 56,
   "id": "dcf20ce4",
   "metadata": {},
   "outputs": [
    {
     "data": {
      "image/png": "[encoded data removed]",
      "text/plain": [
       "<Figure size 432x288 with 1 Axes>"
      ]
     },
     "metadata": {
      "needs_background": "light"
     },
     "output_type": "display_data"
    }
   ],
   "source": [
    "plt.scatter(Y_test, Y_pred,color='blue')\n",
    "plt.title('Predicciones')\n",
    "plt.xlabel('Salario real')\n",
    "plt.ylabel('Salario estimado')\n",
    "plt.show()"
   ]
  },
  {
   "cell_type": "code",
   "execution_count": 57,
   "id": "45263850",
   "metadata": {},
   "outputs": [
    {
     "name": "stdout",
     "output_type": "stream",
     "text": [
      "0.729\n"
     ]
    }
   ],
   "source": [
    "ECMcv=round(mean_squared_error(Y_test,Y_pred),3)\n",
    "print(ECMcv)"
   ]
  },
  {
   "cell_type": "code",
   "execution_count": 58,
   "id": "1f8b976d",
   "metadata": {},
   "outputs": [
    {
     "name": "stdout",
     "output_type": "stream",
     "text": [
      "R^2= 0.04\n",
      "R^2_adj= 0.039\n"
     ]
    }
   ],
   "source": [
    "# Cálculo de $R^2$ ajustada\n",
    "r_2=r2_score(Y_test,Y_pred)\n",
    "print('R^2=',round(r_2,3))\n",
    "n=len(Y_train)\n",
    "p=X_train.shape[1]\n",
    "r_2_adj=1-(((1-r_2)*(n-1))/(n-p-1))\n",
    "print('R^2_adj=',round(r_2_adj,3))"
   ]
  },
  {
   "cell_type": "code",
   "execution_count": 59,
   "id": "782be626",
   "metadata": {},
   "outputs": [
    {
     "data": {
      "image/png": "[encoded data removed]",
      "text/plain": [
       "<Figure size 432x288 with 1 Axes>"
      ]
     },
     "metadata": {
      "needs_background": "light"
     },
     "output_type": "display_data"
    }
   ],
   "source": [
    "#Cálculo de los errores absolutos (real-estimado) y gráficas\n",
    "\n",
    "err_abs = Y_test-Y_pred\n",
    "\n",
    "plt.scatter(Y_test, err_abs, color='blue')\n",
    "plt.plot(Y_test, np.zeros(len(err_abs)),color='red')\n",
    "plt.title(\"Errores absolutos (real-estimado)\")\n",
    "plt.xlabel(\"Puntaje real\")\n",
    "plt.ylabel(\"Errores absolutos\")\n",
    "plt.show()"
   ]
  },
  {
   "cell_type": "code",
   "execution_count": 60,
   "id": "04c31e93",
   "metadata": {},
   "outputs": [
    {
     "data": {
      "image/png": "[encoded data removed]",
      "text/plain": [
       "<Figure size 432x288 with 1 Axes>"
      ]
     },
     "metadata": {
      "needs_background": "light"
     },
     "output_type": "display_data"
    }
   ],
   "source": [
    "# Gráfica de valores estimados vs valores reales\n",
    "eje_X= range(1,len(Y_test)+1)\n",
    "plt.plot(eje_X,Y_test,color='blue')\n",
    "plt.plot(eje_X,Y_pred,color='violet')\n",
    "plt.title(\"Valores estiumados vs Valores reales\")\n",
    "plt.xlabel(\"Índices\")\n",
    "plt.ylabel(\"Puntaje\")\n",
    "plt.show()"
   ]
  },
  {
   "cell_type": "code",
   "execution_count": null,
   "id": "1fe0f8f9",
   "metadata": {},
   "outputs": [],
   "source": []
  }
 ],
 "metadata": {
  "kernelspec": {
   "display_name": "Python 3",
   "language": "python",
   "name": "python3"
  },
  "language_info": {
   "codemirror_mode": {
    "name": "ipython",
    "version": 3
   },
   "file_extension": ".py",
   "mimetype": "text/x-python",
   "name": "python",
   "nbconvert_exporter": "python",
   "pygments_lexer": "ipython3",
   "version": "3.8.8"
  }
 },
 "nbformat": 4,
 "nbformat_minor": 5
}
