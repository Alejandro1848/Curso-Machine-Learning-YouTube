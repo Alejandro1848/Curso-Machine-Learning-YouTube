{
 "cells": [
  {
   "cell_type": "code",
   "execution_count": 1,
   "id": "08b98e58",
   "metadata": {},
   "outputs": [],
   "source": [
    "import statsmodels.formula.api as smf\n",
    "#from pandas import DataFrame\n",
    "import pandas as pd\n",
    "import matplotlib.pyplot as plt \n",
    "import numpy as np\n",
    " "
   ]
  },
  {
   "cell_type": "code",
   "execution_count": 2,
   "id": "7c2e4976",
   "metadata": {},
   "outputs": [],
   "source": [
    "y_t=[3083,3149,3218,3239,3295,3374,3475,3569,3597,3725,3794,3959,4043,4194,4318,4493,4683,4850,5005,5236]"
   ]
  },
  {
   "cell_type": "code",
   "execution_count": 3,
   "id": "3958d64b",
   "metadata": {},
   "outputs": [],
   "source": [
    "x_t=[75,78,80,82,84,88,93,97,99,104,109,115,120,127,135,144,153,161,170,182]"
   ]
  },
  {
   "cell_type": "code",
   "execution_count": 4,
   "id": "f8ffb66a",
   "metadata": {},
   "outputs": [],
   "source": [
    "d = {'Sales': y_t, 'Advertising': x_t}\n",
    "data = pd.DataFrame(data=d)"
   ]
  },
  {
   "cell_type": "code",
   "execution_count": 5,
   "id": "1dccb189",
   "metadata": {},
   "outputs": [
    {
     "data": {
      "text/html": [
       "<div>\n",
       "<style scoped>\n",
       "    .dataframe tbody tr th:only-of-type {\n",
       "        vertical-align: middle;\n",
       "    }\n",
       "\n",
       "    .dataframe tbody tr th {\n",
       "        vertical-align: top;\n",
       "    }\n",
       "\n",
       "    .dataframe thead th {\n",
       "        text-align: right;\n",
       "    }\n",
       "</style>\n",
       "<table border=\"1\" class=\"dataframe\">\n",
       "  <thead>\n",
       "    <tr style=\"text-align: right;\">\n",
       "      <th></th>\n",
       "      <th>Sales</th>\n",
       "      <th>Advertising</th>\n",
       "    </tr>\n",
       "  </thead>\n",
       "  <tbody>\n",
       "    <tr>\n",
       "      <th>0</th>\n",
       "      <td>3083</td>\n",
       "      <td>75</td>\n",
       "    </tr>\n",
       "    <tr>\n",
       "      <th>1</th>\n",
       "      <td>3149</td>\n",
       "      <td>78</td>\n",
       "    </tr>\n",
       "    <tr>\n",
       "      <th>2</th>\n",
       "      <td>3218</td>\n",
       "      <td>80</td>\n",
       "    </tr>\n",
       "    <tr>\n",
       "      <th>3</th>\n",
       "      <td>3239</td>\n",
       "      <td>82</td>\n",
       "    </tr>\n",
       "    <tr>\n",
       "      <th>4</th>\n",
       "      <td>3295</td>\n",
       "      <td>84</td>\n",
       "    </tr>\n",
       "  </tbody>\n",
       "</table>\n",
       "</div>"
      ],
      "text/plain": [
       "   Sales  Advertising\n",
       "0   3083           75\n",
       "1   3149           78\n",
       "2   3218           80\n",
       "3   3239           82\n",
       "4   3295           84"
      ]
     },
     "execution_count": 5,
     "metadata": {},
     "output_type": "execute_result"
    }
   ],
   "source": [
    "data.head()"
   ]
  },
  {
   "cell_type": "markdown",
   "id": "3a8cd34a",
   "metadata": {},
   "source": [
    "# Primer supuesto"
   ]
  },
  {
   "cell_type": "code",
   "execution_count": 6,
   "id": "e5e89d0b",
   "metadata": {},
   "outputs": [],
   "source": [
    "lm = smf.ols(formula=\"Sales~Advertising\", data=data).fit()"
   ]
  },
  {
   "cell_type": "code",
   "execution_count": 7,
   "id": "17b69421",
   "metadata": {},
   "outputs": [
    {
     "data": {
      "text/plain": [
       "<statsmodels.regression.linear_model.RegressionResultsWrapper at 0x217afc4bfd0>"
      ]
     },
     "execution_count": 7,
     "metadata": {},
     "output_type": "execute_result"
    }
   ],
   "source": [
    "lm"
   ]
  },
  {
   "cell_type": "code",
   "execution_count": 8,
   "id": "8f1cd473",
   "metadata": {},
   "outputs": [
    {
     "data": {
      "text/plain": [
       "Intercept      1608.507782\n",
       "Advertising      20.090960\n",
       "dtype: float64"
      ]
     },
     "execution_count": 8,
     "metadata": {},
     "output_type": "execute_result"
    }
   ],
   "source": [
    "lm.params"
   ]
  },
  {
   "cell_type": "markdown",
   "id": "5b191bed",
   "metadata": {},
   "source": [
    "El modelo predictivo sería:\n",
    "\n",
    "Sales = 1608.507782 + 20.090960 * Advertising"
   ]
  },
  {
   "cell_type": "code",
   "execution_count": 9,
   "id": "ed9c14e2",
   "metadata": {},
   "outputs": [],
   "source": [
    "data[\"Sales_pred\"]= 1608.507782 + 20.090960 * data[\"Advertising\"]"
   ]
  },
  {
   "cell_type": "code",
   "execution_count": 10,
   "id": "34d94812",
   "metadata": {},
   "outputs": [
    {
     "data": {
      "text/plain": [
       "Intercept      1.002257e-25\n",
       "Advertising    7.808055e-29\n",
       "dtype: float64"
      ]
     },
     "execution_count": 10,
     "metadata": {},
     "output_type": "execute_result"
    }
   ],
   "source": [
    "lm.pvalues"
   ]
  },
  {
   "cell_type": "code",
   "execution_count": 11,
   "id": "17b4b19f",
   "metadata": {},
   "outputs": [
    {
     "data": {
      "text/plain": [
       "0.9990916938619614"
      ]
     },
     "execution_count": 11,
     "metadata": {},
     "output_type": "execute_result"
    }
   ],
   "source": [
    "lm.rsquared"
   ]
  },
  {
   "cell_type": "code",
   "execution_count": 48,
   "id": "2909d003",
   "metadata": {},
   "outputs": [
    {
     "data": {
      "text/plain": [
       "0.0010000000000000009"
      ]
     },
     "execution_count": 48,
     "metadata": {},
     "output_type": "execute_result"
    }
   ],
   "source": [
    "1/1-(0.999)"
   ]
  },
  {
   "cell_type": "code",
   "execution_count": 12,
   "id": "ba7a0c3d",
   "metadata": {},
   "outputs": [
    {
     "data": {
      "text/html": [
       "<table class=\"simpletable\">\n",
       "<caption>OLS Regression Results</caption>\n",
       "<tr>\n",
       "  <th>Dep. Variable:</th>          <td>Sales</td>      <th>  R-squared:         </th> <td>   0.999</td> \n",
       "</tr>\n",
       "<tr>\n",
       "  <th>Model:</th>                   <td>OLS</td>       <th>  Adj. R-squared:    </th> <td>   0.999</td> \n",
       "</tr>\n",
       "<tr>\n",
       "  <th>Method:</th>             <td>Least Squares</td>  <th>  F-statistic:       </th> <td>1.980e+04</td>\n",
       "</tr>\n",
       "<tr>\n",
       "  <th>Date:</th>             <td>Tue, 28 Sep 2021</td> <th>  Prob (F-statistic):</th> <td>7.81e-29</td> \n",
       "</tr>\n",
       "<tr>\n",
       "  <th>Time:</th>                 <td>18:58:38</td>     <th>  Log-Likelihood:    </th> <td> -87.765</td> \n",
       "</tr>\n",
       "<tr>\n",
       "  <th>No. Observations:</th>      <td>    20</td>      <th>  AIC:               </th> <td>   179.5</td> \n",
       "</tr>\n",
       "<tr>\n",
       "  <th>Df Residuals:</th>          <td>    18</td>      <th>  BIC:               </th> <td>   181.5</td> \n",
       "</tr>\n",
       "<tr>\n",
       "  <th>Df Model:</th>              <td>     1</td>      <th>                     </th>     <td> </td>    \n",
       "</tr>\n",
       "<tr>\n",
       "  <th>Covariance Type:</th>      <td>nonrobust</td>    <th>                     </th>     <td> </td>    \n",
       "</tr>\n",
       "</table>\n",
       "<table class=\"simpletable\">\n",
       "<tr>\n",
       "       <td></td>          <th>coef</th>     <th>std err</th>      <th>t</th>      <th>P>|t|</th>  <th>[0.025</th>    <th>0.975]</th>  \n",
       "</tr>\n",
       "<tr>\n",
       "  <th>Intercept</th>   <td> 1608.5078</td> <td>   17.022</td> <td>   94.494</td> <td> 0.000</td> <td> 1572.745</td> <td> 1644.270</td>\n",
       "</tr>\n",
       "<tr>\n",
       "  <th>Advertising</th> <td>   20.0910</td> <td>    0.143</td> <td>  140.709</td> <td> 0.000</td> <td>   19.791</td> <td>   20.391</td>\n",
       "</tr>\n",
       "</table>\n",
       "<table class=\"simpletable\">\n",
       "<tr>\n",
       "  <th>Omnibus:</th>       <td> 0.532</td> <th>  Durbin-Watson:     </th> <td>   1.080</td>\n",
       "</tr>\n",
       "<tr>\n",
       "  <th>Prob(Omnibus):</th> <td> 0.766</td> <th>  Jarque-Bera (JB):  </th> <td>   0.541</td>\n",
       "</tr>\n",
       "<tr>\n",
       "  <th>Skew:</th>          <td> 0.327</td> <th>  Prob(JB):          </th> <td>   0.763</td>\n",
       "</tr>\n",
       "<tr>\n",
       "  <th>Kurtosis:</th>      <td> 2.530</td> <th>  Cond. No.          </th> <td>    442.</td>\n",
       "</tr>\n",
       "</table><br/><br/>Notes:<br/>[1] Standard Errors assume that the covariance matrix of the errors is correctly specified."
      ],
      "text/plain": [
       "<class 'statsmodels.iolib.summary.Summary'>\n",
       "\"\"\"\n",
       "                            OLS Regression Results                            \n",
       "==============================================================================\n",
       "Dep. Variable:                  Sales   R-squared:                       0.999\n",
       "Model:                            OLS   Adj. R-squared:                  0.999\n",
       "Method:                 Least Squares   F-statistic:                 1.980e+04\n",
       "Date:                Tue, 28 Sep 2021   Prob (F-statistic):           7.81e-29\n",
       "Time:                        18:58:38   Log-Likelihood:                -87.765\n",
       "No. Observations:                  20   AIC:                             179.5\n",
       "Df Residuals:                      18   BIC:                             181.5\n",
       "Df Model:                           1                                         \n",
       "Covariance Type:            nonrobust                                         \n",
       "===============================================================================\n",
       "                  coef    std err          t      P>|t|      [0.025      0.975]\n",
       "-------------------------------------------------------------------------------\n",
       "Intercept    1608.5078     17.022     94.494      0.000    1572.745    1644.270\n",
       "Advertising    20.0910      0.143    140.709      0.000      19.791      20.391\n",
       "==============================================================================\n",
       "Omnibus:                        0.532   Durbin-Watson:                   1.080\n",
       "Prob(Omnibus):                  0.766   Jarque-Bera (JB):                0.541\n",
       "Skew:                           0.327   Prob(JB):                        0.763\n",
       "Kurtosis:                       2.530   Cond. No.                         442.\n",
       "==============================================================================\n",
       "\n",
       "Notes:\n",
       "[1] Standard Errors assume that the covariance matrix of the errors is correctly specified.\n",
       "\"\"\""
      ]
     },
     "execution_count": 12,
     "metadata": {},
     "output_type": "execute_result"
    }
   ],
   "source": [
    "lm.summary()"
   ]
  },
  {
   "cell_type": "code",
   "execution_count": 13,
   "id": "13e75f77",
   "metadata": {},
   "outputs": [
    {
     "ename": "NameError",
     "evalue": "name 'sales_pred' is not defined",
     "output_type": "error",
     "traceback": [
      "\u001b[1;31m---------------------------------------------------------------------------\u001b[0m",
      "\u001b[1;31mNameError\u001b[0m                                 Traceback (most recent call last)",
      "\u001b[1;32m<ipython-input-13-1d265950e880>\u001b[0m in \u001b[0;36m<module>\u001b[1;34m\u001b[0m\n\u001b[0;32m      2\u001b[0m \u001b[0mget_ipython\u001b[0m\u001b[1;33m(\u001b[0m\u001b[1;33m)\u001b[0m\u001b[1;33m.\u001b[0m\u001b[0mrun_line_magic\u001b[0m\u001b[1;33m(\u001b[0m\u001b[1;34m'matplotlib'\u001b[0m\u001b[1;33m,\u001b[0m \u001b[1;34m'inline'\u001b[0m\u001b[1;33m)\u001b[0m\u001b[1;33m\u001b[0m\u001b[1;33m\u001b[0m\u001b[0m\n\u001b[0;32m      3\u001b[0m \u001b[0mdata\u001b[0m\u001b[1;33m.\u001b[0m\u001b[0mplot\u001b[0m\u001b[1;33m(\u001b[0m\u001b[0mkind\u001b[0m\u001b[1;33m=\u001b[0m\u001b[1;34m\"scatter\"\u001b[0m\u001b[1;33m,\u001b[0m \u001b[0mx\u001b[0m\u001b[1;33m=\u001b[0m \u001b[1;34m\"Advertising\"\u001b[0m\u001b[1;33m,\u001b[0m \u001b[0my\u001b[0m\u001b[1;33m=\u001b[0m\u001b[1;34m\"Sales\"\u001b[0m\u001b[1;33m)\u001b[0m\u001b[1;33m\u001b[0m\u001b[1;33m\u001b[0m\u001b[0m\n\u001b[1;32m----> 4\u001b[1;33m \u001b[0mplt\u001b[0m\u001b[1;33m.\u001b[0m\u001b[0mplot\u001b[0m\u001b[1;33m(\u001b[0m\u001b[0mpd\u001b[0m\u001b[1;33m.\u001b[0m\u001b[0mDataFrame\u001b[0m\u001b[1;33m(\u001b[0m\u001b[0mdata\u001b[0m\u001b[1;33m[\u001b[0m\u001b[1;34m\"Advertising\"\u001b[0m\u001b[1;33m]\u001b[0m\u001b[1;33m)\u001b[0m\u001b[1;33m,\u001b[0m \u001b[0msales_pred\u001b[0m\u001b[1;33m,\u001b[0m \u001b[0mc\u001b[0m\u001b[1;33m=\u001b[0m\u001b[1;34m\"red\"\u001b[0m\u001b[1;33m,\u001b[0m \u001b[0mlinewidth\u001b[0m\u001b[1;33m=\u001b[0m\u001b[1;36m2\u001b[0m\u001b[1;33m)\u001b[0m\u001b[1;33m\u001b[0m\u001b[1;33m\u001b[0m\u001b[0m\n\u001b[0m",
      "\u001b[1;31mNameError\u001b[0m: name 'sales_pred' is not defined"
     ]
    },
    {
     "data": {
      "image/png": "[encoded data removed]",
      "text/plain": [
       "<Figure size 432x288 with 1 Axes>"
      ]
     },
     "metadata": {
      "needs_background": "light"
     },
     "output_type": "display_data"
    }
   ],
   "source": [
    "#make a graph with several instructions at the same time\n",
    "%matplotlib inline\n",
    "data.plot(kind=\"scatter\", x= \"Advertising\", y=\"Sales\")\n",
    "plt.plot(pd.DataFrame(data[\"Advertising\"]), sales_pred, c=\"red\", linewidth=2)"
   ]
  },
  {
   "cell_type": "code",
   "execution_count": 14,
   "id": "1a27054f",
   "metadata": {},
   "outputs": [],
   "source": [
    "# Los puntos predichos por el modelo se pueden obetener como:\n",
    "\n",
    "#sales_pred = lm.predict(pd.DataFrame(data[\"Advertising\"]))\n",
    "#sales_pred"
   ]
  },
  {
   "cell_type": "code",
   "execution_count": 15,
   "id": "970357d5",
   "metadata": {},
   "outputs": [],
   "source": [
    "data[\"Least_square_residuals\"] =(data[\"Sales\"]-data[\"Sales_pred\"]) # Residual Square Error "
   ]
  },
  {
   "cell_type": "code",
   "execution_count": 16,
   "id": "7f09b7f3",
   "metadata": {},
   "outputs": [
    {
     "data": {
      "text/html": [
       "<div>\n",
       "<style scoped>\n",
       "    .dataframe tbody tr th:only-of-type {\n",
       "        vertical-align: middle;\n",
       "    }\n",
       "\n",
       "    .dataframe tbody tr th {\n",
       "        vertical-align: top;\n",
       "    }\n",
       "\n",
       "    .dataframe thead th {\n",
       "        text-align: right;\n",
       "    }\n",
       "</style>\n",
       "<table border=\"1\" class=\"dataframe\">\n",
       "  <thead>\n",
       "    <tr style=\"text-align: right;\">\n",
       "      <th></th>\n",
       "      <th>Sales</th>\n",
       "      <th>Advertising</th>\n",
       "      <th>Sales_pred</th>\n",
       "      <th>Least_square_residuals</th>\n",
       "    </tr>\n",
       "  </thead>\n",
       "  <tbody>\n",
       "    <tr>\n",
       "      <th>0</th>\n",
       "      <td>3083</td>\n",
       "      <td>75</td>\n",
       "      <td>3115.329782</td>\n",
       "      <td>-32.329782</td>\n",
       "    </tr>\n",
       "    <tr>\n",
       "      <th>1</th>\n",
       "      <td>3149</td>\n",
       "      <td>78</td>\n",
       "      <td>3175.602662</td>\n",
       "      <td>-26.602662</td>\n",
       "    </tr>\n",
       "    <tr>\n",
       "      <th>2</th>\n",
       "      <td>3218</td>\n",
       "      <td>80</td>\n",
       "      <td>3215.784582</td>\n",
       "      <td>2.215418</td>\n",
       "    </tr>\n",
       "    <tr>\n",
       "      <th>3</th>\n",
       "      <td>3239</td>\n",
       "      <td>82</td>\n",
       "      <td>3255.966502</td>\n",
       "      <td>-16.966502</td>\n",
       "    </tr>\n",
       "    <tr>\n",
       "      <th>4</th>\n",
       "      <td>3295</td>\n",
       "      <td>84</td>\n",
       "      <td>3296.148422</td>\n",
       "      <td>-1.148422</td>\n",
       "    </tr>\n",
       "    <tr>\n",
       "      <th>5</th>\n",
       "      <td>3374</td>\n",
       "      <td>88</td>\n",
       "      <td>3376.512262</td>\n",
       "      <td>-2.512262</td>\n",
       "    </tr>\n",
       "    <tr>\n",
       "      <th>6</th>\n",
       "      <td>3475</td>\n",
       "      <td>93</td>\n",
       "      <td>3476.967062</td>\n",
       "      <td>-1.967062</td>\n",
       "    </tr>\n",
       "    <tr>\n",
       "      <th>7</th>\n",
       "      <td>3569</td>\n",
       "      <td>97</td>\n",
       "      <td>3557.330902</td>\n",
       "      <td>11.669098</td>\n",
       "    </tr>\n",
       "    <tr>\n",
       "      <th>8</th>\n",
       "      <td>3597</td>\n",
       "      <td>99</td>\n",
       "      <td>3597.512822</td>\n",
       "      <td>-0.512822</td>\n",
       "    </tr>\n",
       "    <tr>\n",
       "      <th>9</th>\n",
       "      <td>3725</td>\n",
       "      <td>104</td>\n",
       "      <td>3697.967622</td>\n",
       "      <td>27.032378</td>\n",
       "    </tr>\n",
       "    <tr>\n",
       "      <th>10</th>\n",
       "      <td>3794</td>\n",
       "      <td>109</td>\n",
       "      <td>3798.422422</td>\n",
       "      <td>-4.422422</td>\n",
       "    </tr>\n",
       "    <tr>\n",
       "      <th>11</th>\n",
       "      <td>3959</td>\n",
       "      <td>115</td>\n",
       "      <td>3918.968182</td>\n",
       "      <td>40.031818</td>\n",
       "    </tr>\n",
       "    <tr>\n",
       "      <th>12</th>\n",
       "      <td>4043</td>\n",
       "      <td>120</td>\n",
       "      <td>4019.422982</td>\n",
       "      <td>23.577018</td>\n",
       "    </tr>\n",
       "    <tr>\n",
       "      <th>13</th>\n",
       "      <td>4194</td>\n",
       "      <td>127</td>\n",
       "      <td>4160.059702</td>\n",
       "      <td>33.940298</td>\n",
       "    </tr>\n",
       "    <tr>\n",
       "      <th>14</th>\n",
       "      <td>4318</td>\n",
       "      <td>135</td>\n",
       "      <td>4320.787382</td>\n",
       "      <td>-2.787382</td>\n",
       "    </tr>\n",
       "    <tr>\n",
       "      <th>15</th>\n",
       "      <td>4493</td>\n",
       "      <td>144</td>\n",
       "      <td>4501.606022</td>\n",
       "      <td>-8.606022</td>\n",
       "    </tr>\n",
       "    <tr>\n",
       "      <th>16</th>\n",
       "      <td>4683</td>\n",
       "      <td>153</td>\n",
       "      <td>4682.424662</td>\n",
       "      <td>0.575338</td>\n",
       "    </tr>\n",
       "    <tr>\n",
       "      <th>17</th>\n",
       "      <td>4850</td>\n",
       "      <td>161</td>\n",
       "      <td>4843.152342</td>\n",
       "      <td>6.847658</td>\n",
       "    </tr>\n",
       "    <tr>\n",
       "      <th>18</th>\n",
       "      <td>5005</td>\n",
       "      <td>170</td>\n",
       "      <td>5023.970982</td>\n",
       "      <td>-18.970982</td>\n",
       "    </tr>\n",
       "    <tr>\n",
       "      <th>19</th>\n",
       "      <td>5236</td>\n",
       "      <td>182</td>\n",
       "      <td>5265.062502</td>\n",
       "      <td>-29.062502</td>\n",
       "    </tr>\n",
       "  </tbody>\n",
       "</table>\n",
       "</div>"
      ],
      "text/plain": [
       "    Sales  Advertising   Sales_pred  Least_square_residuals\n",
       "0    3083           75  3115.329782              -32.329782\n",
       "1    3149           78  3175.602662              -26.602662\n",
       "2    3218           80  3215.784582                2.215418\n",
       "3    3239           82  3255.966502              -16.966502\n",
       "4    3295           84  3296.148422               -1.148422\n",
       "5    3374           88  3376.512262               -2.512262\n",
       "6    3475           93  3476.967062               -1.967062\n",
       "7    3569           97  3557.330902               11.669098\n",
       "8    3597           99  3597.512822               -0.512822\n",
       "9    3725          104  3697.967622               27.032378\n",
       "10   3794          109  3798.422422               -4.422422\n",
       "11   3959          115  3918.968182               40.031818\n",
       "12   4043          120  4019.422982               23.577018\n",
       "13   4194          127  4160.059702               33.940298\n",
       "14   4318          135  4320.787382               -2.787382\n",
       "15   4493          144  4501.606022               -8.606022\n",
       "16   4683          153  4682.424662                0.575338\n",
       "17   4850          161  4843.152342                6.847658\n",
       "18   5005          170  5023.970982              -18.970982\n",
       "19   5236          182  5265.062502              -29.062502"
      ]
     },
     "execution_count": 16,
     "metadata": {},
     "output_type": "execute_result"
    }
   ],
   "source": [
    "data\n"
   ]
  },
  {
   "cell_type": "code",
   "execution_count": 17,
   "id": "05a1c337",
   "metadata": {},
   "outputs": [
    {
     "data": {
      "text/plain": [
       "<AxesSubplot:xlabel='Sales_pred', ylabel='Least_square_residuals'>"
      ]
     },
     "execution_count": 17,
     "metadata": {},
     "output_type": "execute_result"
    },
    {
     "data": {
      "image/png": "[encoded data removed]",
      "text/plain": [
       "<Figure size 432x288 with 1 Axes>"
      ]
     },
     "metadata": {
      "needs_background": "light"
     },
     "output_type": "display_data"
    }
   ],
   "source": [
    "#make a graph with several instructions at the same time\n",
    "\n",
    "data.plot(kind=\"scatter\", x= \"Sales_pred\", y=\"Least_square_residuals\")"
   ]
  },
  {
   "cell_type": "markdown",
   "id": "86a62fd5",
   "metadata": {},
   "source": [
    "## Cálculo de Durbin-Watson"
   ]
  },
  {
   "cell_type": "code",
   "execution_count": 18,
   "id": "7a441fb3",
   "metadata": {},
   "outputs": [],
   "source": [
    "# Cuadratic Residual Square Error "
   ]
  },
  {
   "cell_type": "code",
   "execution_count": 19,
   "id": "31b91d99",
   "metadata": {},
   "outputs": [],
   "source": [
    "data[\"e_t**2\"] =(data[\"Sales\"]-data[\"Sales_pred\"])**2"
   ]
  },
  {
   "cell_type": "code",
   "execution_count": 20,
   "id": "4095c640",
   "metadata": {},
   "outputs": [
    {
     "data": {
      "text/html": [
       "<div>\n",
       "<style scoped>\n",
       "    .dataframe tbody tr th:only-of-type {\n",
       "        vertical-align: middle;\n",
       "    }\n",
       "\n",
       "    .dataframe tbody tr th {\n",
       "        vertical-align: top;\n",
       "    }\n",
       "\n",
       "    .dataframe thead th {\n",
       "        text-align: right;\n",
       "    }\n",
       "</style>\n",
       "<table border=\"1\" class=\"dataframe\">\n",
       "  <thead>\n",
       "    <tr style=\"text-align: right;\">\n",
       "      <th></th>\n",
       "      <th>Sales</th>\n",
       "      <th>Advertising</th>\n",
       "      <th>Sales_pred</th>\n",
       "      <th>Least_square_residuals</th>\n",
       "      <th>e_t**2</th>\n",
       "    </tr>\n",
       "  </thead>\n",
       "  <tbody>\n",
       "    <tr>\n",
       "      <th>0</th>\n",
       "      <td>3083</td>\n",
       "      <td>75</td>\n",
       "      <td>3115.329782</td>\n",
       "      <td>-32.329782</td>\n",
       "      <td>1045.214804</td>\n",
       "    </tr>\n",
       "    <tr>\n",
       "      <th>1</th>\n",
       "      <td>3149</td>\n",
       "      <td>78</td>\n",
       "      <td>3175.602662</td>\n",
       "      <td>-26.602662</td>\n",
       "      <td>707.701625</td>\n",
       "    </tr>\n",
       "    <tr>\n",
       "      <th>2</th>\n",
       "      <td>3218</td>\n",
       "      <td>80</td>\n",
       "      <td>3215.784582</td>\n",
       "      <td>2.215418</td>\n",
       "      <td>4.908077</td>\n",
       "    </tr>\n",
       "    <tr>\n",
       "      <th>3</th>\n",
       "      <td>3239</td>\n",
       "      <td>82</td>\n",
       "      <td>3255.966502</td>\n",
       "      <td>-16.966502</td>\n",
       "      <td>287.862190</td>\n",
       "    </tr>\n",
       "    <tr>\n",
       "      <th>4</th>\n",
       "      <td>3295</td>\n",
       "      <td>84</td>\n",
       "      <td>3296.148422</td>\n",
       "      <td>-1.148422</td>\n",
       "      <td>1.318873</td>\n",
       "    </tr>\n",
       "    <tr>\n",
       "      <th>5</th>\n",
       "      <td>3374</td>\n",
       "      <td>88</td>\n",
       "      <td>3376.512262</td>\n",
       "      <td>-2.512262</td>\n",
       "      <td>6.311460</td>\n",
       "    </tr>\n",
       "    <tr>\n",
       "      <th>6</th>\n",
       "      <td>3475</td>\n",
       "      <td>93</td>\n",
       "      <td>3476.967062</td>\n",
       "      <td>-1.967062</td>\n",
       "      <td>3.869333</td>\n",
       "    </tr>\n",
       "    <tr>\n",
       "      <th>7</th>\n",
       "      <td>3569</td>\n",
       "      <td>97</td>\n",
       "      <td>3557.330902</td>\n",
       "      <td>11.669098</td>\n",
       "      <td>136.167848</td>\n",
       "    </tr>\n",
       "    <tr>\n",
       "      <th>8</th>\n",
       "      <td>3597</td>\n",
       "      <td>99</td>\n",
       "      <td>3597.512822</td>\n",
       "      <td>-0.512822</td>\n",
       "      <td>0.262986</td>\n",
       "    </tr>\n",
       "    <tr>\n",
       "      <th>9</th>\n",
       "      <td>3725</td>\n",
       "      <td>104</td>\n",
       "      <td>3697.967622</td>\n",
       "      <td>27.032378</td>\n",
       "      <td>730.749460</td>\n",
       "    </tr>\n",
       "    <tr>\n",
       "      <th>10</th>\n",
       "      <td>3794</td>\n",
       "      <td>109</td>\n",
       "      <td>3798.422422</td>\n",
       "      <td>-4.422422</td>\n",
       "      <td>19.557816</td>\n",
       "    </tr>\n",
       "    <tr>\n",
       "      <th>11</th>\n",
       "      <td>3959</td>\n",
       "      <td>115</td>\n",
       "      <td>3918.968182</td>\n",
       "      <td>40.031818</td>\n",
       "      <td>1602.546452</td>\n",
       "    </tr>\n",
       "    <tr>\n",
       "      <th>12</th>\n",
       "      <td>4043</td>\n",
       "      <td>120</td>\n",
       "      <td>4019.422982</td>\n",
       "      <td>23.577018</td>\n",
       "      <td>555.875778</td>\n",
       "    </tr>\n",
       "    <tr>\n",
       "      <th>13</th>\n",
       "      <td>4194</td>\n",
       "      <td>127</td>\n",
       "      <td>4160.059702</td>\n",
       "      <td>33.940298</td>\n",
       "      <td>1151.943828</td>\n",
       "    </tr>\n",
       "    <tr>\n",
       "      <th>14</th>\n",
       "      <td>4318</td>\n",
       "      <td>135</td>\n",
       "      <td>4320.787382</td>\n",
       "      <td>-2.787382</td>\n",
       "      <td>7.769498</td>\n",
       "    </tr>\n",
       "    <tr>\n",
       "      <th>15</th>\n",
       "      <td>4493</td>\n",
       "      <td>144</td>\n",
       "      <td>4501.606022</td>\n",
       "      <td>-8.606022</td>\n",
       "      <td>74.063615</td>\n",
       "    </tr>\n",
       "    <tr>\n",
       "      <th>16</th>\n",
       "      <td>4683</td>\n",
       "      <td>153</td>\n",
       "      <td>4682.424662</td>\n",
       "      <td>0.575338</td>\n",
       "      <td>0.331014</td>\n",
       "    </tr>\n",
       "    <tr>\n",
       "      <th>17</th>\n",
       "      <td>4850</td>\n",
       "      <td>161</td>\n",
       "      <td>4843.152342</td>\n",
       "      <td>6.847658</td>\n",
       "      <td>46.890420</td>\n",
       "    </tr>\n",
       "    <tr>\n",
       "      <th>18</th>\n",
       "      <td>5005</td>\n",
       "      <td>170</td>\n",
       "      <td>5023.970982</td>\n",
       "      <td>-18.970982</td>\n",
       "      <td>359.898158</td>\n",
       "    </tr>\n",
       "    <tr>\n",
       "      <th>19</th>\n",
       "      <td>5236</td>\n",
       "      <td>182</td>\n",
       "      <td>5265.062502</td>\n",
       "      <td>-29.062502</td>\n",
       "      <td>844.629022</td>\n",
       "    </tr>\n",
       "  </tbody>\n",
       "</table>\n",
       "</div>"
      ],
      "text/plain": [
       "    Sales  Advertising   Sales_pred  Least_square_residuals       e_t**2\n",
       "0    3083           75  3115.329782              -32.329782  1045.214804\n",
       "1    3149           78  3175.602662              -26.602662   707.701625\n",
       "2    3218           80  3215.784582                2.215418     4.908077\n",
       "3    3239           82  3255.966502              -16.966502   287.862190\n",
       "4    3295           84  3296.148422               -1.148422     1.318873\n",
       "5    3374           88  3376.512262               -2.512262     6.311460\n",
       "6    3475           93  3476.967062               -1.967062     3.869333\n",
       "7    3569           97  3557.330902               11.669098   136.167848\n",
       "8    3597           99  3597.512822               -0.512822     0.262986\n",
       "9    3725          104  3697.967622               27.032378   730.749460\n",
       "10   3794          109  3798.422422               -4.422422    19.557816\n",
       "11   3959          115  3918.968182               40.031818  1602.546452\n",
       "12   4043          120  4019.422982               23.577018   555.875778\n",
       "13   4194          127  4160.059702               33.940298  1151.943828\n",
       "14   4318          135  4320.787382               -2.787382     7.769498\n",
       "15   4493          144  4501.606022               -8.606022    74.063615\n",
       "16   4683          153  4682.424662                0.575338     0.331014\n",
       "17   4850          161  4843.152342                6.847658    46.890420\n",
       "18   5005          170  5023.970982              -18.970982   359.898158\n",
       "19   5236          182  5265.062502              -29.062502   844.629022"
      ]
     },
     "execution_count": 20,
     "metadata": {},
     "output_type": "execute_result"
    }
   ],
   "source": [
    "data"
   ]
  },
  {
   "cell_type": "code",
   "execution_count": 21,
   "id": "6d33b252",
   "metadata": {},
   "outputs": [
    {
     "data": {
      "text/plain": [
       "-26.602661999999782"
      ]
     },
     "execution_count": 21,
     "metadata": {},
     "output_type": "execute_result"
    }
   ],
   "source": [
    "data[\"Least_square_residuals\"][1]"
   ]
  },
  {
   "cell_type": "code",
   "execution_count": 41,
   "id": "5bb071d7",
   "metadata": {},
   "outputs": [
    {
     "data": {
      "text/plain": [
       "pandas.core.series.Series"
      ]
     },
     "execution_count": 41,
     "metadata": {},
     "output_type": "execute_result"
    }
   ],
   "source": [
    "type(data[\"Least_square_residuals\"][0::]) "
   ]
  },
  {
   "cell_type": "code",
   "execution_count": 22,
   "id": "70afcccd",
   "metadata": {},
   "outputs": [],
   "source": [
    "#La función zip () toma iterables (pueden ser cero o más), los agrega en una tupla y los devuelve. \n",
    "diff_list = []\n",
    "for x, y in zip(data[\"Least_square_residuals\"][0::], data[\"Least_square_residuals\"][1::]):\n",
    "    diff_list.append(y-x)\n",
    "    diff_list=diff_list\n",
    "    "
   ]
  },
  {
   "cell_type": "code",
   "execution_count": 28,
   "id": "e13718ab",
   "metadata": {},
   "outputs": [],
   "source": [
    "new_diff_list=[]\n",
    "for elemen in diff_list:\n",
    "    x= elemen**2\n",
    "    new_diff_list.append(x)\n",
    "    \n",
    "    "
   ]
  },
  {
   "cell_type": "code",
   "execution_count": 30,
   "id": "794a55b7",
   "metadata": {},
   "outputs": [],
   "source": [
    "new_diff_list.insert(0,0)"
   ]
  },
  {
   "cell_type": "code",
   "execution_count": 31,
   "id": "6282fc6b",
   "metadata": {},
   "outputs": [
    {
     "data": {
      "text/plain": [
       "[0,\n",
       " 32.799903494400155,\n",
       " 830.4817348864005,\n",
       " 367.9460548863997,\n",
       " 250.21165488640028,\n",
       " 1.8600595455999507,\n",
       " 0.2972430400000246,\n",
       " 185.94485954560048,\n",
       " 148.39917488639978,\n",
       " 758.7380430399762,\n",
       " 989.4044430399699,\n",
       " 1976.1794539776024,\n",
       " 270.7604430400142,\n",
       " 107.39757235841007,\n",
       " 1348.9224781823973,\n",
       " 33.85657144960482,\n",
       " 84.2973714496091,\n",
       " 39.34199818240045,\n",
       " 666.6021714496214,\n",
       " 101.83877591039891]"
      ]
     },
     "execution_count": 31,
     "metadata": {},
     "output_type": "execute_result"
    }
   ],
   "source": [
    "new_diff_list"
   ]
  },
  {
   "cell_type": "code",
   "execution_count": 33,
   "id": "6c582d82",
   "metadata": {},
   "outputs": [],
   "source": [
    "data[\"(e_t-e_(t-1))**2\"] =new_diff_list"
   ]
  },
  {
   "cell_type": "code",
   "execution_count": 34,
   "id": "e89aeadf",
   "metadata": {},
   "outputs": [
    {
     "data": {
      "text/html": [
       "<div>\n",
       "<style scoped>\n",
       "    .dataframe tbody tr th:only-of-type {\n",
       "        vertical-align: middle;\n",
       "    }\n",
       "\n",
       "    .dataframe tbody tr th {\n",
       "        vertical-align: top;\n",
       "    }\n",
       "\n",
       "    .dataframe thead th {\n",
       "        text-align: right;\n",
       "    }\n",
       "</style>\n",
       "<table border=\"1\" class=\"dataframe\">\n",
       "  <thead>\n",
       "    <tr style=\"text-align: right;\">\n",
       "      <th></th>\n",
       "      <th>Sales</th>\n",
       "      <th>Advertising</th>\n",
       "      <th>Sales_pred</th>\n",
       "      <th>Least_square_residuals</th>\n",
       "      <th>e_t**2</th>\n",
       "      <th>(e_t-e_(t-1))**2</th>\n",
       "    </tr>\n",
       "  </thead>\n",
       "  <tbody>\n",
       "    <tr>\n",
       "      <th>0</th>\n",
       "      <td>3083</td>\n",
       "      <td>75</td>\n",
       "      <td>3115.329782</td>\n",
       "      <td>-32.329782</td>\n",
       "      <td>1045.214804</td>\n",
       "      <td>0.000000</td>\n",
       "    </tr>\n",
       "    <tr>\n",
       "      <th>1</th>\n",
       "      <td>3149</td>\n",
       "      <td>78</td>\n",
       "      <td>3175.602662</td>\n",
       "      <td>-26.602662</td>\n",
       "      <td>707.701625</td>\n",
       "      <td>32.799903</td>\n",
       "    </tr>\n",
       "    <tr>\n",
       "      <th>2</th>\n",
       "      <td>3218</td>\n",
       "      <td>80</td>\n",
       "      <td>3215.784582</td>\n",
       "      <td>2.215418</td>\n",
       "      <td>4.908077</td>\n",
       "      <td>830.481735</td>\n",
       "    </tr>\n",
       "    <tr>\n",
       "      <th>3</th>\n",
       "      <td>3239</td>\n",
       "      <td>82</td>\n",
       "      <td>3255.966502</td>\n",
       "      <td>-16.966502</td>\n",
       "      <td>287.862190</td>\n",
       "      <td>367.946055</td>\n",
       "    </tr>\n",
       "    <tr>\n",
       "      <th>4</th>\n",
       "      <td>3295</td>\n",
       "      <td>84</td>\n",
       "      <td>3296.148422</td>\n",
       "      <td>-1.148422</td>\n",
       "      <td>1.318873</td>\n",
       "      <td>250.211655</td>\n",
       "    </tr>\n",
       "    <tr>\n",
       "      <th>5</th>\n",
       "      <td>3374</td>\n",
       "      <td>88</td>\n",
       "      <td>3376.512262</td>\n",
       "      <td>-2.512262</td>\n",
       "      <td>6.311460</td>\n",
       "      <td>1.860060</td>\n",
       "    </tr>\n",
       "    <tr>\n",
       "      <th>6</th>\n",
       "      <td>3475</td>\n",
       "      <td>93</td>\n",
       "      <td>3476.967062</td>\n",
       "      <td>-1.967062</td>\n",
       "      <td>3.869333</td>\n",
       "      <td>0.297243</td>\n",
       "    </tr>\n",
       "    <tr>\n",
       "      <th>7</th>\n",
       "      <td>3569</td>\n",
       "      <td>97</td>\n",
       "      <td>3557.330902</td>\n",
       "      <td>11.669098</td>\n",
       "      <td>136.167848</td>\n",
       "      <td>185.944860</td>\n",
       "    </tr>\n",
       "    <tr>\n",
       "      <th>8</th>\n",
       "      <td>3597</td>\n",
       "      <td>99</td>\n",
       "      <td>3597.512822</td>\n",
       "      <td>-0.512822</td>\n",
       "      <td>0.262986</td>\n",
       "      <td>148.399175</td>\n",
       "    </tr>\n",
       "    <tr>\n",
       "      <th>9</th>\n",
       "      <td>3725</td>\n",
       "      <td>104</td>\n",
       "      <td>3697.967622</td>\n",
       "      <td>27.032378</td>\n",
       "      <td>730.749460</td>\n",
       "      <td>758.738043</td>\n",
       "    </tr>\n",
       "    <tr>\n",
       "      <th>10</th>\n",
       "      <td>3794</td>\n",
       "      <td>109</td>\n",
       "      <td>3798.422422</td>\n",
       "      <td>-4.422422</td>\n",
       "      <td>19.557816</td>\n",
       "      <td>989.404443</td>\n",
       "    </tr>\n",
       "    <tr>\n",
       "      <th>11</th>\n",
       "      <td>3959</td>\n",
       "      <td>115</td>\n",
       "      <td>3918.968182</td>\n",
       "      <td>40.031818</td>\n",
       "      <td>1602.546452</td>\n",
       "      <td>1976.179454</td>\n",
       "    </tr>\n",
       "    <tr>\n",
       "      <th>12</th>\n",
       "      <td>4043</td>\n",
       "      <td>120</td>\n",
       "      <td>4019.422982</td>\n",
       "      <td>23.577018</td>\n",
       "      <td>555.875778</td>\n",
       "      <td>270.760443</td>\n",
       "    </tr>\n",
       "    <tr>\n",
       "      <th>13</th>\n",
       "      <td>4194</td>\n",
       "      <td>127</td>\n",
       "      <td>4160.059702</td>\n",
       "      <td>33.940298</td>\n",
       "      <td>1151.943828</td>\n",
       "      <td>107.397572</td>\n",
       "    </tr>\n",
       "    <tr>\n",
       "      <th>14</th>\n",
       "      <td>4318</td>\n",
       "      <td>135</td>\n",
       "      <td>4320.787382</td>\n",
       "      <td>-2.787382</td>\n",
       "      <td>7.769498</td>\n",
       "      <td>1348.922478</td>\n",
       "    </tr>\n",
       "    <tr>\n",
       "      <th>15</th>\n",
       "      <td>4493</td>\n",
       "      <td>144</td>\n",
       "      <td>4501.606022</td>\n",
       "      <td>-8.606022</td>\n",
       "      <td>74.063615</td>\n",
       "      <td>33.856571</td>\n",
       "    </tr>\n",
       "    <tr>\n",
       "      <th>16</th>\n",
       "      <td>4683</td>\n",
       "      <td>153</td>\n",
       "      <td>4682.424662</td>\n",
       "      <td>0.575338</td>\n",
       "      <td>0.331014</td>\n",
       "      <td>84.297371</td>\n",
       "    </tr>\n",
       "    <tr>\n",
       "      <th>17</th>\n",
       "      <td>4850</td>\n",
       "      <td>161</td>\n",
       "      <td>4843.152342</td>\n",
       "      <td>6.847658</td>\n",
       "      <td>46.890420</td>\n",
       "      <td>39.341998</td>\n",
       "    </tr>\n",
       "    <tr>\n",
       "      <th>18</th>\n",
       "      <td>5005</td>\n",
       "      <td>170</td>\n",
       "      <td>5023.970982</td>\n",
       "      <td>-18.970982</td>\n",
       "      <td>359.898158</td>\n",
       "      <td>666.602171</td>\n",
       "    </tr>\n",
       "    <tr>\n",
       "      <th>19</th>\n",
       "      <td>5236</td>\n",
       "      <td>182</td>\n",
       "      <td>5265.062502</td>\n",
       "      <td>-29.062502</td>\n",
       "      <td>844.629022</td>\n",
       "      <td>101.838776</td>\n",
       "    </tr>\n",
       "  </tbody>\n",
       "</table>\n",
       "</div>"
      ],
      "text/plain": [
       "    Sales  Advertising   Sales_pred  Least_square_residuals       e_t**2  \\\n",
       "0    3083           75  3115.329782              -32.329782  1045.214804   \n",
       "1    3149           78  3175.602662              -26.602662   707.701625   \n",
       "2    3218           80  3215.784582                2.215418     4.908077   \n",
       "3    3239           82  3255.966502              -16.966502   287.862190   \n",
       "4    3295           84  3296.148422               -1.148422     1.318873   \n",
       "5    3374           88  3376.512262               -2.512262     6.311460   \n",
       "6    3475           93  3476.967062               -1.967062     3.869333   \n",
       "7    3569           97  3557.330902               11.669098   136.167848   \n",
       "8    3597           99  3597.512822               -0.512822     0.262986   \n",
       "9    3725          104  3697.967622               27.032378   730.749460   \n",
       "10   3794          109  3798.422422               -4.422422    19.557816   \n",
       "11   3959          115  3918.968182               40.031818  1602.546452   \n",
       "12   4043          120  4019.422982               23.577018   555.875778   \n",
       "13   4194          127  4160.059702               33.940298  1151.943828   \n",
       "14   4318          135  4320.787382               -2.787382     7.769498   \n",
       "15   4493          144  4501.606022               -8.606022    74.063615   \n",
       "16   4683          153  4682.424662                0.575338     0.331014   \n",
       "17   4850          161  4843.152342                6.847658    46.890420   \n",
       "18   5005          170  5023.970982              -18.970982   359.898158   \n",
       "19   5236          182  5265.062502              -29.062502   844.629022   \n",
       "\n",
       "    (e_t-e_(t-1))**2  \n",
       "0           0.000000  \n",
       "1          32.799903  \n",
       "2         830.481735  \n",
       "3         367.946055  \n",
       "4         250.211655  \n",
       "5           1.860060  \n",
       "6           0.297243  \n",
       "7         185.944860  \n",
       "8         148.399175  \n",
       "9         758.738043  \n",
       "10        989.404443  \n",
       "11       1976.179454  \n",
       "12        270.760443  \n",
       "13        107.397572  \n",
       "14       1348.922478  \n",
       "15         33.856571  \n",
       "16         84.297371  \n",
       "17         39.341998  \n",
       "18        666.602171  \n",
       "19        101.838776  "
      ]
     },
     "execution_count": 34,
     "metadata": {},
     "output_type": "execute_result"
    }
   ],
   "source": [
    "data"
   ]
  },
  {
   "cell_type": "markdown",
   "id": "eddd8874",
   "metadata": {},
   "source": [
    "### Cálculo de d de Durbin-Watson"
   ]
  },
  {
   "cell_type": "code",
   "execution_count": 35,
   "id": "5313a9b1",
   "metadata": {},
   "outputs": [],
   "source": [
    "d=sum(data[\"(e_t-e_(t-1))**2\"]) / sum(data[\"e_t**2\"])"
   ]
  },
  {
   "cell_type": "code",
   "execution_count": 36,
   "id": "cf875561",
   "metadata": {},
   "outputs": [
    {
     "data": {
      "text/plain": [
       "1.0800498118770527"
      ]
     },
     "execution_count": 36,
     "metadata": {},
     "output_type": "execute_result"
    }
   ],
   "source": [
    "d"
   ]
  },
  {
   "cell_type": "code",
   "execution_count": 44,
   "id": "e88e2eb8",
   "metadata": {},
   "outputs": [
    {
     "data": {
      "text/plain": [
       "(array([3., 1., 1., 2., 7., 1., 1., 1., 1., 2.]),\n",
       " array([-32.329782, -25.093622, -17.857462, -10.621302,  -3.385142,\n",
       "          3.851018,  11.087178,  18.323338,  25.559498,  32.795658,\n",
       "         40.031818]),\n",
       " <BarContainer object of 10 artists>)"
      ]
     },
     "execution_count": 44,
     "metadata": {},
     "output_type": "execute_result"
    },
    {
     "data": {
      "image/png": "[encoded data removed]",
      "text/plain": [
       "<Figure size 432x288 with 1 Axes>"
      ]
     },
     "metadata": {
      "needs_background": "light"
     },
     "output_type": "display_data"
    }
   ],
   "source": [
    "plt.hist((data[\"Sales\"]-data[\"Sales_pred\"])) #Errors are distributed according to a normal distribution with zero mean "
   ]
  },
  {
   "cell_type": "code",
   "execution_count": null,
   "id": "d2547cbd",
   "metadata": {},
   "outputs": [],
   "source": []
  }
 ],
 "metadata": {
  "kernelspec": {
   "display_name": "Python 3",
   "language": "python",
   "name": "python3"
  },
  "language_info": {
   "codemirror_mode": {
    "name": "ipython",
    "version": 3
   },
   "file_extension": ".py",
   "mimetype": "text/x-python",
   "name": "python",
   "nbconvert_exporter": "python",
   "pygments_lexer": "ipython3",
   "version": "3.8.8"
  }
 },
 "nbformat": 4,
 "nbformat_minor": 5
}
