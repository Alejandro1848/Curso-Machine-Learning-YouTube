{
 "cells": [
  {
   "cell_type": "code",
   "execution_count": 1,
   "id": "13019482",
   "metadata": {},
   "outputs": [],
   "source": [
    "from pandas import DataFrame\n",
    "from scipy.special import ndtri #Returns the argument x for which the area under \n",
    "#the Gaussian probability density function (integrated from minus infinity to x) is equal to y.\n",
    "\n",
    "import statsmodels.formula.api as smf\n",
    "import pandas as pd\n",
    "import matplotlib.pyplot as plt \n",
    "import numpy as np"
   ]
  },
  {
   "cell_type": "code",
   "execution_count": 2,
   "id": "1223f83a",
   "metadata": {},
   "outputs": [],
   "source": [
    "y_t=[3083,3149,3218,3239,3295,3374,3475,3569,3597,3725,3794,3959,4043,4194,4318,4493,4683,4850,5005,5236]"
   ]
  },
  {
   "cell_type": "code",
   "execution_count": 3,
   "id": "0b4c0072",
   "metadata": {},
   "outputs": [],
   "source": [
    "x_t=[75,78,80,82,84,88,93,97,99,104,109,115,120,127,135,144,153,161,170,182]"
   ]
  },
  {
   "cell_type": "code",
   "execution_count": 4,
   "id": "d6712f02",
   "metadata": {},
   "outputs": [],
   "source": [
    "d = {'Sales': y_t, 'Advertising': x_t}\n",
    "data = pd.DataFrame(data=d)"
   ]
  },
  {
   "cell_type": "code",
   "execution_count": 5,
   "id": "c640bcff",
   "metadata": {},
   "outputs": [
    {
     "data": {
      "text/html": [
       "<div>\n",
       "<style scoped>\n",
       "    .dataframe tbody tr th:only-of-type {\n",
       "        vertical-align: middle;\n",
       "    }\n",
       "\n",
       "    .dataframe tbody tr th {\n",
       "        vertical-align: top;\n",
       "    }\n",
       "\n",
       "    .dataframe thead th {\n",
       "        text-align: right;\n",
       "    }\n",
       "</style>\n",
       "<table border=\"1\" class=\"dataframe\">\n",
       "  <thead>\n",
       "    <tr style=\"text-align: right;\">\n",
       "      <th></th>\n",
       "      <th>Sales</th>\n",
       "      <th>Advertising</th>\n",
       "    </tr>\n",
       "  </thead>\n",
       "  <tbody>\n",
       "    <tr>\n",
       "      <th>0</th>\n",
       "      <td>3083</td>\n",
       "      <td>75</td>\n",
       "    </tr>\n",
       "    <tr>\n",
       "      <th>1</th>\n",
       "      <td>3149</td>\n",
       "      <td>78</td>\n",
       "    </tr>\n",
       "    <tr>\n",
       "      <th>2</th>\n",
       "      <td>3218</td>\n",
       "      <td>80</td>\n",
       "    </tr>\n",
       "    <tr>\n",
       "      <th>3</th>\n",
       "      <td>3239</td>\n",
       "      <td>82</td>\n",
       "    </tr>\n",
       "    <tr>\n",
       "      <th>4</th>\n",
       "      <td>3295</td>\n",
       "      <td>84</td>\n",
       "    </tr>\n",
       "    <tr>\n",
       "      <th>5</th>\n",
       "      <td>3374</td>\n",
       "      <td>88</td>\n",
       "    </tr>\n",
       "    <tr>\n",
       "      <th>6</th>\n",
       "      <td>3475</td>\n",
       "      <td>93</td>\n",
       "    </tr>\n",
       "    <tr>\n",
       "      <th>7</th>\n",
       "      <td>3569</td>\n",
       "      <td>97</td>\n",
       "    </tr>\n",
       "    <tr>\n",
       "      <th>8</th>\n",
       "      <td>3597</td>\n",
       "      <td>99</td>\n",
       "    </tr>\n",
       "    <tr>\n",
       "      <th>9</th>\n",
       "      <td>3725</td>\n",
       "      <td>104</td>\n",
       "    </tr>\n",
       "    <tr>\n",
       "      <th>10</th>\n",
       "      <td>3794</td>\n",
       "      <td>109</td>\n",
       "    </tr>\n",
       "    <tr>\n",
       "      <th>11</th>\n",
       "      <td>3959</td>\n",
       "      <td>115</td>\n",
       "    </tr>\n",
       "    <tr>\n",
       "      <th>12</th>\n",
       "      <td>4043</td>\n",
       "      <td>120</td>\n",
       "    </tr>\n",
       "    <tr>\n",
       "      <th>13</th>\n",
       "      <td>4194</td>\n",
       "      <td>127</td>\n",
       "    </tr>\n",
       "    <tr>\n",
       "      <th>14</th>\n",
       "      <td>4318</td>\n",
       "      <td>135</td>\n",
       "    </tr>\n",
       "    <tr>\n",
       "      <th>15</th>\n",
       "      <td>4493</td>\n",
       "      <td>144</td>\n",
       "    </tr>\n",
       "    <tr>\n",
       "      <th>16</th>\n",
       "      <td>4683</td>\n",
       "      <td>153</td>\n",
       "    </tr>\n",
       "    <tr>\n",
       "      <th>17</th>\n",
       "      <td>4850</td>\n",
       "      <td>161</td>\n",
       "    </tr>\n",
       "    <tr>\n",
       "      <th>18</th>\n",
       "      <td>5005</td>\n",
       "      <td>170</td>\n",
       "    </tr>\n",
       "    <tr>\n",
       "      <th>19</th>\n",
       "      <td>5236</td>\n",
       "      <td>182</td>\n",
       "    </tr>\n",
       "  </tbody>\n",
       "</table>\n",
       "</div>"
      ],
      "text/plain": [
       "    Sales  Advertising\n",
       "0    3083           75\n",
       "1    3149           78\n",
       "2    3218           80\n",
       "3    3239           82\n",
       "4    3295           84\n",
       "5    3374           88\n",
       "6    3475           93\n",
       "7    3569           97\n",
       "8    3597           99\n",
       "9    3725          104\n",
       "10   3794          109\n",
       "11   3959          115\n",
       "12   4043          120\n",
       "13   4194          127\n",
       "14   4318          135\n",
       "15   4493          144\n",
       "16   4683          153\n",
       "17   4850          161\n",
       "18   5005          170\n",
       "19   5236          182"
      ]
     },
     "execution_count": 5,
     "metadata": {},
     "output_type": "execute_result"
    }
   ],
   "source": [
    "data"
   ]
  },
  {
   "cell_type": "code",
   "execution_count": 6,
   "id": "0f11a2cb",
   "metadata": {},
   "outputs": [],
   "source": [
    "#I'll arrange the points column data in ascending order\n",
    "data= data.sort_values(by=['Sales'],ascending=True).reset_index()"
   ]
  },
  {
   "cell_type": "code",
   "execution_count": 7,
   "id": "6e9a3b72",
   "metadata": {},
   "outputs": [
    {
     "data": {
      "text/html": [
       "<div>\n",
       "<style scoped>\n",
       "    .dataframe tbody tr th:only-of-type {\n",
       "        vertical-align: middle;\n",
       "    }\n",
       "\n",
       "    .dataframe tbody tr th {\n",
       "        vertical-align: top;\n",
       "    }\n",
       "\n",
       "    .dataframe thead th {\n",
       "        text-align: right;\n",
       "    }\n",
       "</style>\n",
       "<table border=\"1\" class=\"dataframe\">\n",
       "  <thead>\n",
       "    <tr style=\"text-align: right;\">\n",
       "      <th></th>\n",
       "      <th>index</th>\n",
       "      <th>Sales</th>\n",
       "      <th>Advertising</th>\n",
       "    </tr>\n",
       "  </thead>\n",
       "  <tbody>\n",
       "    <tr>\n",
       "      <th>0</th>\n",
       "      <td>0</td>\n",
       "      <td>3083</td>\n",
       "      <td>75</td>\n",
       "    </tr>\n",
       "    <tr>\n",
       "      <th>1</th>\n",
       "      <td>1</td>\n",
       "      <td>3149</td>\n",
       "      <td>78</td>\n",
       "    </tr>\n",
       "    <tr>\n",
       "      <th>2</th>\n",
       "      <td>2</td>\n",
       "      <td>3218</td>\n",
       "      <td>80</td>\n",
       "    </tr>\n",
       "    <tr>\n",
       "      <th>3</th>\n",
       "      <td>3</td>\n",
       "      <td>3239</td>\n",
       "      <td>82</td>\n",
       "    </tr>\n",
       "    <tr>\n",
       "      <th>4</th>\n",
       "      <td>4</td>\n",
       "      <td>3295</td>\n",
       "      <td>84</td>\n",
       "    </tr>\n",
       "  </tbody>\n",
       "</table>\n",
       "</div>"
      ],
      "text/plain": [
       "   index  Sales  Advertising\n",
       "0      0   3083           75\n",
       "1      1   3149           78\n",
       "2      2   3218           80\n",
       "3      3   3239           82\n",
       "4      4   3295           84"
      ]
     },
     "execution_count": 7,
     "metadata": {},
     "output_type": "execute_result"
    }
   ],
   "source": [
    "data.head()"
   ]
  },
  {
   "cell_type": "code",
   "execution_count": 8,
   "id": "5db95f54",
   "metadata": {},
   "outputs": [],
   "source": [
    "#I'll divide the standard normal distribution that is the theoretical distribution into n+1 equal parts where n is the number \n",
    "# of data points,\n",
    "data['count']= data.index + 1"
   ]
  },
  {
   "cell_type": "code",
   "execution_count": 9,
   "id": "dd1884c8",
   "metadata": {},
   "outputs": [
    {
     "data": {
      "text/html": [
       "<div>\n",
       "<style scoped>\n",
       "    .dataframe tbody tr th:only-of-type {\n",
       "        vertical-align: middle;\n",
       "    }\n",
       "\n",
       "    .dataframe tbody tr th {\n",
       "        vertical-align: top;\n",
       "    }\n",
       "\n",
       "    .dataframe thead th {\n",
       "        text-align: right;\n",
       "    }\n",
       "</style>\n",
       "<table border=\"1\" class=\"dataframe\">\n",
       "  <thead>\n",
       "    <tr style=\"text-align: right;\">\n",
       "      <th></th>\n",
       "      <th>index</th>\n",
       "      <th>Sales</th>\n",
       "      <th>Advertising</th>\n",
       "      <th>count</th>\n",
       "    </tr>\n",
       "  </thead>\n",
       "  <tbody>\n",
       "    <tr>\n",
       "      <th>0</th>\n",
       "      <td>0</td>\n",
       "      <td>3083</td>\n",
       "      <td>75</td>\n",
       "      <td>1</td>\n",
       "    </tr>\n",
       "    <tr>\n",
       "      <th>1</th>\n",
       "      <td>1</td>\n",
       "      <td>3149</td>\n",
       "      <td>78</td>\n",
       "      <td>2</td>\n",
       "    </tr>\n",
       "    <tr>\n",
       "      <th>2</th>\n",
       "      <td>2</td>\n",
       "      <td>3218</td>\n",
       "      <td>80</td>\n",
       "      <td>3</td>\n",
       "    </tr>\n",
       "    <tr>\n",
       "      <th>3</th>\n",
       "      <td>3</td>\n",
       "      <td>3239</td>\n",
       "      <td>82</td>\n",
       "      <td>4</td>\n",
       "    </tr>\n",
       "    <tr>\n",
       "      <th>4</th>\n",
       "      <td>4</td>\n",
       "      <td>3295</td>\n",
       "      <td>84</td>\n",
       "      <td>5</td>\n",
       "    </tr>\n",
       "  </tbody>\n",
       "</table>\n",
       "</div>"
      ],
      "text/plain": [
       "   index  Sales  Advertising  count\n",
       "0      0   3083           75      1\n",
       "1      1   3149           78      2\n",
       "2      2   3218           80      3\n",
       "3      3   3239           82      4\n",
       "4      4   3295           84      5"
      ]
     },
     "execution_count": 9,
     "metadata": {},
     "output_type": "execute_result"
    }
   ],
   "source": [
    "data.head()"
   ]
  },
  {
   "cell_type": "code",
   "execution_count": 14,
   "id": "1d2b3695",
   "metadata": {},
   "outputs": [],
   "source": [
    "n_rows = data.shape[0] #20 filas"
   ]
  },
  {
   "cell_type": "code",
   "execution_count": 15,
   "id": "d1a5f0b9",
   "metadata": {},
   "outputs": [],
   "source": [
    "data['percentile_area']= (data['count'])/n_rows"
   ]
  },
  {
   "cell_type": "code",
   "execution_count": 16,
   "id": "284e0e12",
   "metadata": {},
   "outputs": [],
   "source": [
    "data['z_theoritical']= ndtri(data['percentile_area'])"
   ]
  },
  {
   "cell_type": "code",
   "execution_count": 17,
   "id": "292e2e1a",
   "metadata": {},
   "outputs": [
    {
     "data": {
      "text/html": [
       "<div>\n",
       "<style scoped>\n",
       "    .dataframe tbody tr th:only-of-type {\n",
       "        vertical-align: middle;\n",
       "    }\n",
       "\n",
       "    .dataframe tbody tr th {\n",
       "        vertical-align: top;\n",
       "    }\n",
       "\n",
       "    .dataframe thead th {\n",
       "        text-align: right;\n",
       "    }\n",
       "</style>\n",
       "<table border=\"1\" class=\"dataframe\">\n",
       "  <thead>\n",
       "    <tr style=\"text-align: right;\">\n",
       "      <th></th>\n",
       "      <th>index</th>\n",
       "      <th>Sales</th>\n",
       "      <th>Advertising</th>\n",
       "      <th>count</th>\n",
       "      <th>percentile_area</th>\n",
       "      <th>z_theoritical</th>\n",
       "    </tr>\n",
       "  </thead>\n",
       "  <tbody>\n",
       "    <tr>\n",
       "      <th>0</th>\n",
       "      <td>0</td>\n",
       "      <td>3083</td>\n",
       "      <td>75</td>\n",
       "      <td>1</td>\n",
       "      <td>0.05</td>\n",
       "      <td>-1.644854</td>\n",
       "    </tr>\n",
       "    <tr>\n",
       "      <th>1</th>\n",
       "      <td>1</td>\n",
       "      <td>3149</td>\n",
       "      <td>78</td>\n",
       "      <td>2</td>\n",
       "      <td>0.10</td>\n",
       "      <td>-1.281552</td>\n",
       "    </tr>\n",
       "    <tr>\n",
       "      <th>2</th>\n",
       "      <td>2</td>\n",
       "      <td>3218</td>\n",
       "      <td>80</td>\n",
       "      <td>3</td>\n",
       "      <td>0.15</td>\n",
       "      <td>-1.036433</td>\n",
       "    </tr>\n",
       "    <tr>\n",
       "      <th>3</th>\n",
       "      <td>3</td>\n",
       "      <td>3239</td>\n",
       "      <td>82</td>\n",
       "      <td>4</td>\n",
       "      <td>0.20</td>\n",
       "      <td>-0.841621</td>\n",
       "    </tr>\n",
       "    <tr>\n",
       "      <th>4</th>\n",
       "      <td>4</td>\n",
       "      <td>3295</td>\n",
       "      <td>84</td>\n",
       "      <td>5</td>\n",
       "      <td>0.25</td>\n",
       "      <td>-0.674490</td>\n",
       "    </tr>\n",
       "    <tr>\n",
       "      <th>5</th>\n",
       "      <td>5</td>\n",
       "      <td>3374</td>\n",
       "      <td>88</td>\n",
       "      <td>6</td>\n",
       "      <td>0.30</td>\n",
       "      <td>-0.524401</td>\n",
       "    </tr>\n",
       "    <tr>\n",
       "      <th>6</th>\n",
       "      <td>6</td>\n",
       "      <td>3475</td>\n",
       "      <td>93</td>\n",
       "      <td>7</td>\n",
       "      <td>0.35</td>\n",
       "      <td>-0.385320</td>\n",
       "    </tr>\n",
       "    <tr>\n",
       "      <th>7</th>\n",
       "      <td>7</td>\n",
       "      <td>3569</td>\n",
       "      <td>97</td>\n",
       "      <td>8</td>\n",
       "      <td>0.40</td>\n",
       "      <td>-0.253347</td>\n",
       "    </tr>\n",
       "    <tr>\n",
       "      <th>8</th>\n",
       "      <td>8</td>\n",
       "      <td>3597</td>\n",
       "      <td>99</td>\n",
       "      <td>9</td>\n",
       "      <td>0.45</td>\n",
       "      <td>-0.125661</td>\n",
       "    </tr>\n",
       "    <tr>\n",
       "      <th>9</th>\n",
       "      <td>9</td>\n",
       "      <td>3725</td>\n",
       "      <td>104</td>\n",
       "      <td>10</td>\n",
       "      <td>0.50</td>\n",
       "      <td>0.000000</td>\n",
       "    </tr>\n",
       "    <tr>\n",
       "      <th>10</th>\n",
       "      <td>10</td>\n",
       "      <td>3794</td>\n",
       "      <td>109</td>\n",
       "      <td>11</td>\n",
       "      <td>0.55</td>\n",
       "      <td>0.125661</td>\n",
       "    </tr>\n",
       "    <tr>\n",
       "      <th>11</th>\n",
       "      <td>11</td>\n",
       "      <td>3959</td>\n",
       "      <td>115</td>\n",
       "      <td>12</td>\n",
       "      <td>0.60</td>\n",
       "      <td>0.253347</td>\n",
       "    </tr>\n",
       "    <tr>\n",
       "      <th>12</th>\n",
       "      <td>12</td>\n",
       "      <td>4043</td>\n",
       "      <td>120</td>\n",
       "      <td>13</td>\n",
       "      <td>0.65</td>\n",
       "      <td>0.385320</td>\n",
       "    </tr>\n",
       "    <tr>\n",
       "      <th>13</th>\n",
       "      <td>13</td>\n",
       "      <td>4194</td>\n",
       "      <td>127</td>\n",
       "      <td>14</td>\n",
       "      <td>0.70</td>\n",
       "      <td>0.524401</td>\n",
       "    </tr>\n",
       "    <tr>\n",
       "      <th>14</th>\n",
       "      <td>14</td>\n",
       "      <td>4318</td>\n",
       "      <td>135</td>\n",
       "      <td>15</td>\n",
       "      <td>0.75</td>\n",
       "      <td>0.674490</td>\n",
       "    </tr>\n",
       "    <tr>\n",
       "      <th>15</th>\n",
       "      <td>15</td>\n",
       "      <td>4493</td>\n",
       "      <td>144</td>\n",
       "      <td>16</td>\n",
       "      <td>0.80</td>\n",
       "      <td>0.841621</td>\n",
       "    </tr>\n",
       "    <tr>\n",
       "      <th>16</th>\n",
       "      <td>16</td>\n",
       "      <td>4683</td>\n",
       "      <td>153</td>\n",
       "      <td>17</td>\n",
       "      <td>0.85</td>\n",
       "      <td>1.036433</td>\n",
       "    </tr>\n",
       "    <tr>\n",
       "      <th>17</th>\n",
       "      <td>17</td>\n",
       "      <td>4850</td>\n",
       "      <td>161</td>\n",
       "      <td>18</td>\n",
       "      <td>0.90</td>\n",
       "      <td>1.281552</td>\n",
       "    </tr>\n",
       "    <tr>\n",
       "      <th>18</th>\n",
       "      <td>18</td>\n",
       "      <td>5005</td>\n",
       "      <td>170</td>\n",
       "      <td>19</td>\n",
       "      <td>0.95</td>\n",
       "      <td>1.644854</td>\n",
       "    </tr>\n",
       "    <tr>\n",
       "      <th>19</th>\n",
       "      <td>19</td>\n",
       "      <td>5236</td>\n",
       "      <td>182</td>\n",
       "      <td>20</td>\n",
       "      <td>1.00</td>\n",
       "      <td>inf</td>\n",
       "    </tr>\n",
       "  </tbody>\n",
       "</table>\n",
       "</div>"
      ],
      "text/plain": [
       "    index  Sales  Advertising  count  percentile_area  z_theoritical\n",
       "0       0   3083           75      1             0.05      -1.644854\n",
       "1       1   3149           78      2             0.10      -1.281552\n",
       "2       2   3218           80      3             0.15      -1.036433\n",
       "3       3   3239           82      4             0.20      -0.841621\n",
       "4       4   3295           84      5             0.25      -0.674490\n",
       "5       5   3374           88      6             0.30      -0.524401\n",
       "6       6   3475           93      7             0.35      -0.385320\n",
       "7       7   3569           97      8             0.40      -0.253347\n",
       "8       8   3597           99      9             0.45      -0.125661\n",
       "9       9   3725          104     10             0.50       0.000000\n",
       "10     10   3794          109     11             0.55       0.125661\n",
       "11     11   3959          115     12             0.60       0.253347\n",
       "12     12   4043          120     13             0.65       0.385320\n",
       "13     13   4194          127     14             0.70       0.524401\n",
       "14     14   4318          135     15             0.75       0.674490\n",
       "15     15   4493          144     16             0.80       0.841621\n",
       "16     16   4683          153     17             0.85       1.036433\n",
       "17     17   4850          161     18             0.90       1.281552\n",
       "18     18   5005          170     19             0.95       1.644854\n",
       "19     19   5236          182     20             1.00            inf"
      ]
     },
     "execution_count": 17,
     "metadata": {},
     "output_type": "execute_result"
    }
   ],
   "source": [
    "data"
   ]
  },
  {
   "cell_type": "code",
   "execution_count": 22,
   "id": "e555ebd1",
   "metadata": {},
   "outputs": [
    {
     "data": {
      "text/plain": [
       "0     3083\n",
       "1     3149\n",
       "2     3218\n",
       "3     3239\n",
       "4     3295\n",
       "5     3374\n",
       "6     3475\n",
       "7     3569\n",
       "8     3597\n",
       "9     3725\n",
       "10    3794\n",
       "11    3959\n",
       "12    4043\n",
       "13    4194\n",
       "14    4318\n",
       "15    4493\n",
       "16    4683\n",
       "17    4850\n",
       "18    5005\n",
       "19    5236\n",
       "Name: Sales, dtype: int64"
      ]
     },
     "execution_count": 22,
     "metadata": {},
     "output_type": "execute_result"
    }
   ],
   "source": [
    "data['Sales']"
   ]
  },
  {
   "cell_type": "code",
   "execution_count": 23,
   "id": "c6d4b029",
   "metadata": {},
   "outputs": [
    {
     "data": {
      "text/plain": [
       "3914.95"
      ]
     },
     "execution_count": 23,
     "metadata": {},
     "output_type": "execute_result"
    }
   ],
   "source": [
    "data['Sales'].mean()"
   ]
  },
  {
   "cell_type": "code",
   "execution_count": 26,
   "id": "78a5cbd4",
   "metadata": {},
   "outputs": [
    {
     "data": {
      "text/plain": [
       "646.2921533640958"
      ]
     },
     "execution_count": 26,
     "metadata": {},
     "output_type": "execute_result"
    }
   ],
   "source": [
    "data['Sales'].std(ddof=0)"
   ]
  },
  {
   "cell_type": "code",
   "execution_count": null,
   "id": "99d32333",
   "metadata": {},
   "outputs": [],
   "source": []
  },
  {
   "cell_type": "code",
   "execution_count": 19,
   "id": "a973718c",
   "metadata": {},
   "outputs": [],
   "source": [
    "data['z_actual'] = (data['Sales']-data['Sales'].mean()) / data['Sales'].std(ddof=0)"
   ]
  },
  {
   "cell_type": "code",
   "execution_count": 20,
   "id": "263a906d",
   "metadata": {},
   "outputs": [
    {
     "data": {
      "text/html": [
       "<div>\n",
       "<style scoped>\n",
       "    .dataframe tbody tr th:only-of-type {\n",
       "        vertical-align: middle;\n",
       "    }\n",
       "\n",
       "    .dataframe tbody tr th {\n",
       "        vertical-align: top;\n",
       "    }\n",
       "\n",
       "    .dataframe thead th {\n",
       "        text-align: right;\n",
       "    }\n",
       "</style>\n",
       "<table border=\"1\" class=\"dataframe\">\n",
       "  <thead>\n",
       "    <tr style=\"text-align: right;\">\n",
       "      <th></th>\n",
       "      <th>index</th>\n",
       "      <th>Sales</th>\n",
       "      <th>Advertising</th>\n",
       "      <th>count</th>\n",
       "      <th>percentile_area</th>\n",
       "      <th>z_theoritical</th>\n",
       "      <th>z_actual</th>\n",
       "    </tr>\n",
       "  </thead>\n",
       "  <tbody>\n",
       "    <tr>\n",
       "      <th>0</th>\n",
       "      <td>0</td>\n",
       "      <td>3083</td>\n",
       "      <td>75</td>\n",
       "      <td>1</td>\n",
       "      <td>0.05</td>\n",
       "      <td>-1.644854</td>\n",
       "      <td>-1.287266</td>\n",
       "    </tr>\n",
       "    <tr>\n",
       "      <th>1</th>\n",
       "      <td>1</td>\n",
       "      <td>3149</td>\n",
       "      <td>78</td>\n",
       "      <td>2</td>\n",
       "      <td>0.10</td>\n",
       "      <td>-1.281552</td>\n",
       "      <td>-1.185145</td>\n",
       "    </tr>\n",
       "    <tr>\n",
       "      <th>2</th>\n",
       "      <td>2</td>\n",
       "      <td>3218</td>\n",
       "      <td>80</td>\n",
       "      <td>3</td>\n",
       "      <td>0.15</td>\n",
       "      <td>-1.036433</td>\n",
       "      <td>-1.078382</td>\n",
       "    </tr>\n",
       "    <tr>\n",
       "      <th>3</th>\n",
       "      <td>3</td>\n",
       "      <td>3239</td>\n",
       "      <td>82</td>\n",
       "      <td>4</td>\n",
       "      <td>0.20</td>\n",
       "      <td>-0.841621</td>\n",
       "      <td>-1.045889</td>\n",
       "    </tr>\n",
       "    <tr>\n",
       "      <th>4</th>\n",
       "      <td>4</td>\n",
       "      <td>3295</td>\n",
       "      <td>84</td>\n",
       "      <td>5</td>\n",
       "      <td>0.25</td>\n",
       "      <td>-0.674490</td>\n",
       "      <td>-0.959241</td>\n",
       "    </tr>\n",
       "  </tbody>\n",
       "</table>\n",
       "</div>"
      ],
      "text/plain": [
       "   index  Sales  Advertising  count  percentile_area  z_theoritical  z_actual\n",
       "0      0   3083           75      1             0.05      -1.644854 -1.287266\n",
       "1      1   3149           78      2             0.10      -1.281552 -1.185145\n",
       "2      2   3218           80      3             0.15      -1.036433 -1.078382\n",
       "3      3   3239           82      4             0.20      -0.841621 -1.045889\n",
       "4      4   3295           84      5             0.25      -0.674490 -0.959241"
      ]
     },
     "execution_count": 20,
     "metadata": {},
     "output_type": "execute_result"
    }
   ],
   "source": [
    "data.head()"
   ]
  },
  {
   "cell_type": "code",
   "execution_count": 16,
   "id": "fb92c3ff",
   "metadata": {},
   "outputs": [
    {
     "data": {
      "text/plain": [
       "[<matplotlib.lines.Line2D at 0x19150d12f40>]"
      ]
     },
     "execution_count": 16,
     "metadata": {},
     "output_type": "execute_result"
    },
    {
     "data": {
      "image/png": "[encoded data removed]",
      "text/plain": [
       "<Figure size 432x288 with 1 Axes>"
      ]
     },
     "metadata": {
      "needs_background": "light"
     },
     "output_type": "display_data"
    }
   ],
   "source": [
    "plt.scatter(data.z_actual,data.z_theoritical)\n",
    "plt.plot([-2,-1,0,1,2],[-2,-1,0,1,2])"
   ]
  },
  {
   "cell_type": "code",
   "execution_count": 17,
   "id": "71766bb0",
   "metadata": {},
   "outputs": [
    {
     "data": {
      "text/plain": [
       "[<matplotlib.lines.Line2D at 0x1915247ae80>]"
      ]
     },
     "execution_count": 17,
     "metadata": {},
     "output_type": "execute_result"
    },
    {
     "data": {
      "image/png": "[encoded data removed]",
      "text/plain": [
       "<Figure size 432x288 with 1 Axes>"
      ]
     },
     "metadata": {
      "needs_background": "light"
     },
     "output_type": "display_data"
    }
   ],
   "source": [
    "plt.scatter(data.z_theoritical,data.z_theoritical)\n",
    "plt.plot([-2,-1,0,1,2],[-2,-1,0,1,2])"
   ]
  },
  {
   "cell_type": "code",
   "execution_count": 18,
   "id": "aeea8593",
   "metadata": {},
   "outputs": [
    {
     "data": {
      "text/plain": [
       "-1.546433122256748"
      ]
     },
     "execution_count": 18,
     "metadata": {},
     "output_type": "execute_result"
    }
   ],
   "source": [
    "ndtri(0.061)"
   ]
  },
  {
   "cell_type": "code",
   "execution_count": null,
   "id": "260b8b33",
   "metadata": {},
   "outputs": [],
   "source": []
  }
 ],
 "metadata": {
  "kernelspec": {
   "display_name": "Python 3",
   "language": "python",
   "name": "python3"
  },
  "language_info": {
   "codemirror_mode": {
    "name": "ipython",
    "version": 3
   },
   "file_extension": ".py",
   "mimetype": "text/x-python",
   "name": "python",
   "nbconvert_exporter": "python",
   "pygments_lexer": "ipython3",
   "version": "3.8.8"
  }
 },
 "nbformat": 4,
 "nbformat_minor": 5
}
